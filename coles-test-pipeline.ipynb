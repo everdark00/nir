{
 "cells": [
  {
   "cell_type": "markdown",
   "id": "9e91a902",
   "metadata": {},
   "source": [
    "## Setup"
   ]
  },
  {
   "cell_type": "code",
   "execution_count": 1,
   "id": "35ef9362-df8f-4ffa-bb38-c2227520a3ea",
   "metadata": {},
   "outputs": [
    {
     "name": "stderr",
     "output_type": "stream",
     "text": [
      "2025-02-10 13:20:22.768836: I tensorflow/core/util/port.cc:153] oneDNN custom operations are on. You may see slightly different numerical results due to floating-point round-off errors from different computation orders. To turn them off, set the environment variable `TF_ENABLE_ONEDNN_OPTS=0`.\n",
      "2025-02-10 13:20:22.784580: E external/local_xla/xla/stream_executor/cuda/cuda_fft.cc:477] Unable to register cuFFT factory: Attempting to register factory for plugin cuFFT when one has already been registered\n",
      "WARNING: All log messages before absl::InitializeLog() is called are written to STDERR\n",
      "E0000 00:00:1739182822.803827    9665 cuda_dnn.cc:8310] Unable to register cuDNN factory: Attempting to register factory for plugin cuDNN when one has already been registered\n",
      "E0000 00:00:1739182822.809530    9665 cuda_blas.cc:1418] Unable to register cuBLAS factory: Attempting to register factory for plugin cuBLAS when one has already been registered\n",
      "2025-02-10 13:20:22.829849: I tensorflow/core/platform/cpu_feature_guard.cc:210] This TensorFlow binary is optimized to use available CPU instructions in performance-critical operations.\n",
      "To enable the following instructions: AVX2 AVX_VNNI FMA, in other operations, rebuild TensorFlow with the appropriate compiler flags.\n"
     ]
    }
   ],
   "source": [
    "import numpy as np\n",
    "import pandas as pd\n",
    "from tqdm.notebook import tqdm\n",
    "from torch.utils.data import Dataset, DataLoader\n",
    "import copy\n",
    "import pickle\n",
    "import sys\n",
    "import os\n",
    "\n",
    "import pytorch_lightning as pl\n",
    "\n",
    "import logging\n",
    "\n",
    "sys.path.insert(0, 'C:\\\\Users\\\\peter\\\\anaconda3\\\\envs\\\\cv\\\\Scripts\\\\ptls-glove')\n",
    "\n",
    "from functools import partial\n",
    "from ptls.nn import RnnSeqEncoder, TrxEncoder\n",
    "from ptls.nn.trx_encoder.trx_encoders_custom import TrxEncoderGlove, TrxEncoderCat, TrxEncoderTrans\n",
    "from ptls.nn.trx_encoder import GloveEmbedding\n",
    "from ptls.preprocessing.baseline_discretizer import KDiscretizer, SingleTreeDiscretizer\n",
    "from ptls.preprocessing.deeptlf.src import DeepTLF\n",
    "from ptls.frames.coles import CoLESModule\n",
    "from ptls.data_load.datasets import MemoryMapDataset\n",
    "from ptls.data_load.iterable_processing import SeqLenFilter\n",
    "from ptls.frames.coles import ColesDataset\n",
    "from ptls.frames.coles.split_strategy import SampleSlices\n",
    "from ptls.frames import PtlsDataModule, TestModule\n",
    "from ptls.frames.coles.metric import BatchRecallTopK\n",
    "from ptls.preprocessing.deeptlf import DeepTLFDisc\n",
    "\n",
    "import ptls\n",
    "import torch\n",
    "from torch import nn\n",
    "from ptls.preprocessing import PandasDataPreprocessor\n",
    "from sklearn.model_selection import train_test_split\n",
    "from ptls.data_load.datasets import inference_data_loader\n",
    "from pytorch_lightning.callbacks.early_stopping import EarlyStopping"
   ]
  },
  {
   "cell_type": "code",
   "execution_count": 2,
   "id": "537d8773-ebc3-4531-9082-448c91e8d6c1",
   "metadata": {},
   "outputs": [],
   "source": [
    "def get_df_trx(df_train, df_test):\n",
    "    COL_EVENT_TIME = 'TRDATETIME'\n",
    "    df_train = df_train.drop(['PERIOD', 'target_flag', 'target_sum'], axis=1)\n",
    "    df_test = df_test.drop(['PERIOD'], axis=1)\n",
    "\n",
    "    df = pd.concat([df_train, df_test], ignore_index=True)\n",
    "\n",
    "    # event_time mapping\n",
    "    df['_et_day'] = pd.to_datetime(df[COL_EVENT_TIME].str[:7], format='%d%b%y').astype(np.int64) // 10**9\n",
    "    df['_et_time'] = (pd.to_datetime(df[COL_EVENT_TIME].str[8:], format='%H:%M:%S').astype(np.int64) // 10**9)\n",
    "\n",
    "    df['event_time'] = df['_et_day'] + df['_et_time']\n",
    "    df = df.drop(['_et_day', '_et_time', COL_EVENT_TIME], axis=1)\n",
    "\n",
    "    df.columns = df.columns.str.lower()\n",
    "    df['amount'] = df['amount'].astype(float)\n",
    "\n",
    "    return df\n",
    "\n",
    "def get_df_target(df_train):\n",
    "    df_target = df_train.groupby(\"cl_id\")[\"target_flag\"].first().astype({\"target_flag\": 'int'})\n",
    "\n",
    "    return pd.DataFrame(df_target)\n",
    "\n",
    "def split_target(df):\n",
    "    df['seq_len'] =  np.ceil(np.log(df['seq_len'] / np.log(4))).astype('string')\n",
    "    df['hash'] = (pd.Series(df.index.astype(str) + \"42\").apply(hash) / (2 ** 32) + 0.5).values\n",
    "    df['fold_id'] = df.groupby([\"target_flag\", 'seq_len'])['hash'].rank(method='first', ascending=True) % 6\n",
    "    \n",
    "    df = df.drop(columns = ['hash', 'seq_len'])\n",
    "    return df\n",
    "\n",
    "def split_fold(fold_id, df_target, df_trx):\n",
    "    folds_path = Path(conf_pp.folds_path)\n",
    "    preproc = PysparkDataPreprocessor(\n",
    "        col_id=conf_pp.col_client_id,\n",
    "        col_event_time='event_time',\n",
    "        event_time_transformation='none',\n",
    "        cols_category=[\"mcc\", \"channel_type\", \"currency\", \"trx_category\"],\n",
    "        cols_numerical=['amount'],\n",
    "        cols_last_item=[conf_pp.col_target],\n",
    "    )\n",
    "    df_train_trx = df_trx.merge(df_target, how='left', on=conf_pp.col_client_id).loc[lambda x: x['fold_id'].fillna(-1) != fold_id].drop('fold_id', axis=1)\n",
    "    df_test_trx = df_trx.merge(df_target.loc[lambda x: x['fold_id'] == fold_id].drop('fold_id', axis=1), how='inner', on=conf_pp.col_client_id)\n",
    "    df_train_data = preproc.fit_transform(df_train_trx)\n",
    "    df_test_data = preproc.transform(df_test_trx)\n",
    "    file_name_train = get_file_name_train(fold_id)\n",
    "    file_name_test = get_file_name_test(fold_id)\n",
    "    df_train_data.to_parquet(folds_path / file_name_train, mode='overwrite')\n",
    "    df_test_data.to_parquet(folds_path / file_name_test, mode='overwrite')\n",
    "    with open(folds_path / f'preproc_{fold_id}.p', 'wb') as f:\n",
    "        pickle.dump(preproc, f)\n",
    "    logger.info(f'Preprocessor[{fold_id}].category_dictionary_sizes={preproc.get_category_dictionary_sizes()}')\n",
    "\n",
    "    for df_name in [file_name_train, file_name_test]:\n",
    "        df = pd.read_parquet(folds_path / df_name)\n",
    "        logger.info(f'{df_name:30} {df.shape}')\n",
    "\n",
    "    for df_name in [file_name_train, file_name_test]:\n",
    "        df = pd.read_parquet(folds_path / df_name)\n",
    "        r_counts = df[conf_pp.col_target].value_counts(dropna=False).to_dict()\n",
    "        cnt_str = ', '.join([f'{r_counts.get(0, 0):5d} - 0 class', f'{r_counts.get(1, 0):5d} - 1 class'])\n",
    "        logger.info(f'{df_name:30} {cnt_str}')"
   ]
  },
  {
   "cell_type": "code",
   "execution_count": 2,
   "id": "38130310-6d22-47cb-8aeb-e9c642183cb7",
   "metadata": {
    "scrolled": true
   },
   "outputs": [
    {
     "ename": "FileNotFoundError",
     "evalue": "[Errno 2] No such file or directory: 'data/rosbank/train.csv'",
     "output_type": "error",
     "traceback": [
      "\u001b[0;31m---------------------------------------------------------------------------\u001b[0m",
      "\u001b[0;31mFileNotFoundError\u001b[0m                         Traceback (most recent call last)",
      "Cell \u001b[0;32mIn[2], line 6\u001b[0m\n\u001b[1;32m      2\u001b[0m \u001b[38;5;28;01mimport\u001b[39;00m \u001b[38;5;21;01mpandas\u001b[39;00m \u001b[38;5;28;01mas\u001b[39;00m \u001b[38;5;21;01mpd\u001b[39;00m\n\u001b[1;32m      4\u001b[0m data_path \u001b[38;5;241m=\u001b[39m \u001b[38;5;124m'\u001b[39m\u001b[38;5;124mdata/rosbank\u001b[39m\u001b[38;5;124m'\u001b[39m\n\u001b[0;32m----> 6\u001b[0m train \u001b[38;5;241m=\u001b[39m \u001b[43mpd\u001b[49m\u001b[38;5;241;43m.\u001b[39;49m\u001b[43mread_csv\u001b[49m\u001b[43m(\u001b[49m\u001b[43mos\u001b[49m\u001b[38;5;241;43m.\u001b[39;49m\u001b[43mpath\u001b[49m\u001b[38;5;241;43m.\u001b[39;49m\u001b[43mjoin\u001b[49m\u001b[43m(\u001b[49m\u001b[43mdata_path\u001b[49m\u001b[43m,\u001b[49m\u001b[43m \u001b[49m\u001b[38;5;124;43m'\u001b[39;49m\u001b[38;5;124;43mtrain.csv\u001b[39;49m\u001b[38;5;124;43m'\u001b[39;49m\u001b[43m)\u001b[49m\u001b[43m)\u001b[49m\n\u001b[1;32m      7\u001b[0m test \u001b[38;5;241m=\u001b[39m pd\u001b[38;5;241m.\u001b[39mread_csv(os\u001b[38;5;241m.\u001b[39mpath\u001b[38;5;241m.\u001b[39mjoin(data_path, \u001b[38;5;124m'\u001b[39m\u001b[38;5;124mtest.csv\u001b[39m\u001b[38;5;124m'\u001b[39m))\n",
      "File \u001b[0;32m~/anaconda3/envs/torch/lib/python3.10/site-packages/pandas/io/parsers/readers.py:1026\u001b[0m, in \u001b[0;36mread_csv\u001b[0;34m(filepath_or_buffer, sep, delimiter, header, names, index_col, usecols, dtype, engine, converters, true_values, false_values, skipinitialspace, skiprows, skipfooter, nrows, na_values, keep_default_na, na_filter, verbose, skip_blank_lines, parse_dates, infer_datetime_format, keep_date_col, date_parser, date_format, dayfirst, cache_dates, iterator, chunksize, compression, thousands, decimal, lineterminator, quotechar, quoting, doublequote, escapechar, comment, encoding, encoding_errors, dialect, on_bad_lines, delim_whitespace, low_memory, memory_map, float_precision, storage_options, dtype_backend)\u001b[0m\n\u001b[1;32m   1013\u001b[0m kwds_defaults \u001b[38;5;241m=\u001b[39m _refine_defaults_read(\n\u001b[1;32m   1014\u001b[0m     dialect,\n\u001b[1;32m   1015\u001b[0m     delimiter,\n\u001b[0;32m   (...)\u001b[0m\n\u001b[1;32m   1022\u001b[0m     dtype_backend\u001b[38;5;241m=\u001b[39mdtype_backend,\n\u001b[1;32m   1023\u001b[0m )\n\u001b[1;32m   1024\u001b[0m kwds\u001b[38;5;241m.\u001b[39mupdate(kwds_defaults)\n\u001b[0;32m-> 1026\u001b[0m \u001b[38;5;28;01mreturn\u001b[39;00m \u001b[43m_read\u001b[49m\u001b[43m(\u001b[49m\u001b[43mfilepath_or_buffer\u001b[49m\u001b[43m,\u001b[49m\u001b[43m \u001b[49m\u001b[43mkwds\u001b[49m\u001b[43m)\u001b[49m\n",
      "File \u001b[0;32m~/anaconda3/envs/torch/lib/python3.10/site-packages/pandas/io/parsers/readers.py:620\u001b[0m, in \u001b[0;36m_read\u001b[0;34m(filepath_or_buffer, kwds)\u001b[0m\n\u001b[1;32m    617\u001b[0m _validate_names(kwds\u001b[38;5;241m.\u001b[39mget(\u001b[38;5;124m\"\u001b[39m\u001b[38;5;124mnames\u001b[39m\u001b[38;5;124m\"\u001b[39m, \u001b[38;5;28;01mNone\u001b[39;00m))\n\u001b[1;32m    619\u001b[0m \u001b[38;5;66;03m# Create the parser.\u001b[39;00m\n\u001b[0;32m--> 620\u001b[0m parser \u001b[38;5;241m=\u001b[39m \u001b[43mTextFileReader\u001b[49m\u001b[43m(\u001b[49m\u001b[43mfilepath_or_buffer\u001b[49m\u001b[43m,\u001b[49m\u001b[43m \u001b[49m\u001b[38;5;241;43m*\u001b[39;49m\u001b[38;5;241;43m*\u001b[39;49m\u001b[43mkwds\u001b[49m\u001b[43m)\u001b[49m\n\u001b[1;32m    622\u001b[0m \u001b[38;5;28;01mif\u001b[39;00m chunksize \u001b[38;5;129;01mor\u001b[39;00m iterator:\n\u001b[1;32m    623\u001b[0m     \u001b[38;5;28;01mreturn\u001b[39;00m parser\n",
      "File \u001b[0;32m~/anaconda3/envs/torch/lib/python3.10/site-packages/pandas/io/parsers/readers.py:1620\u001b[0m, in \u001b[0;36mTextFileReader.__init__\u001b[0;34m(self, f, engine, **kwds)\u001b[0m\n\u001b[1;32m   1617\u001b[0m     \u001b[38;5;28mself\u001b[39m\u001b[38;5;241m.\u001b[39moptions[\u001b[38;5;124m\"\u001b[39m\u001b[38;5;124mhas_index_names\u001b[39m\u001b[38;5;124m\"\u001b[39m] \u001b[38;5;241m=\u001b[39m kwds[\u001b[38;5;124m\"\u001b[39m\u001b[38;5;124mhas_index_names\u001b[39m\u001b[38;5;124m\"\u001b[39m]\n\u001b[1;32m   1619\u001b[0m \u001b[38;5;28mself\u001b[39m\u001b[38;5;241m.\u001b[39mhandles: IOHandles \u001b[38;5;241m|\u001b[39m \u001b[38;5;28;01mNone\u001b[39;00m \u001b[38;5;241m=\u001b[39m \u001b[38;5;28;01mNone\u001b[39;00m\n\u001b[0;32m-> 1620\u001b[0m \u001b[38;5;28mself\u001b[39m\u001b[38;5;241m.\u001b[39m_engine \u001b[38;5;241m=\u001b[39m \u001b[38;5;28;43mself\u001b[39;49m\u001b[38;5;241;43m.\u001b[39;49m\u001b[43m_make_engine\u001b[49m\u001b[43m(\u001b[49m\u001b[43mf\u001b[49m\u001b[43m,\u001b[49m\u001b[43m \u001b[49m\u001b[38;5;28;43mself\u001b[39;49m\u001b[38;5;241;43m.\u001b[39;49m\u001b[43mengine\u001b[49m\u001b[43m)\u001b[49m\n",
      "File \u001b[0;32m~/anaconda3/envs/torch/lib/python3.10/site-packages/pandas/io/parsers/readers.py:1880\u001b[0m, in \u001b[0;36mTextFileReader._make_engine\u001b[0;34m(self, f, engine)\u001b[0m\n\u001b[1;32m   1878\u001b[0m     \u001b[38;5;28;01mif\u001b[39;00m \u001b[38;5;124m\"\u001b[39m\u001b[38;5;124mb\u001b[39m\u001b[38;5;124m\"\u001b[39m \u001b[38;5;129;01mnot\u001b[39;00m \u001b[38;5;129;01min\u001b[39;00m mode:\n\u001b[1;32m   1879\u001b[0m         mode \u001b[38;5;241m+\u001b[39m\u001b[38;5;241m=\u001b[39m \u001b[38;5;124m\"\u001b[39m\u001b[38;5;124mb\u001b[39m\u001b[38;5;124m\"\u001b[39m\n\u001b[0;32m-> 1880\u001b[0m \u001b[38;5;28mself\u001b[39m\u001b[38;5;241m.\u001b[39mhandles \u001b[38;5;241m=\u001b[39m \u001b[43mget_handle\u001b[49m\u001b[43m(\u001b[49m\n\u001b[1;32m   1881\u001b[0m \u001b[43m    \u001b[49m\u001b[43mf\u001b[49m\u001b[43m,\u001b[49m\n\u001b[1;32m   1882\u001b[0m \u001b[43m    \u001b[49m\u001b[43mmode\u001b[49m\u001b[43m,\u001b[49m\n\u001b[1;32m   1883\u001b[0m \u001b[43m    \u001b[49m\u001b[43mencoding\u001b[49m\u001b[38;5;241;43m=\u001b[39;49m\u001b[38;5;28;43mself\u001b[39;49m\u001b[38;5;241;43m.\u001b[39;49m\u001b[43moptions\u001b[49m\u001b[38;5;241;43m.\u001b[39;49m\u001b[43mget\u001b[49m\u001b[43m(\u001b[49m\u001b[38;5;124;43m\"\u001b[39;49m\u001b[38;5;124;43mencoding\u001b[39;49m\u001b[38;5;124;43m\"\u001b[39;49m\u001b[43m,\u001b[49m\u001b[43m \u001b[49m\u001b[38;5;28;43;01mNone\u001b[39;49;00m\u001b[43m)\u001b[49m\u001b[43m,\u001b[49m\n\u001b[1;32m   1884\u001b[0m \u001b[43m    \u001b[49m\u001b[43mcompression\u001b[49m\u001b[38;5;241;43m=\u001b[39;49m\u001b[38;5;28;43mself\u001b[39;49m\u001b[38;5;241;43m.\u001b[39;49m\u001b[43moptions\u001b[49m\u001b[38;5;241;43m.\u001b[39;49m\u001b[43mget\u001b[49m\u001b[43m(\u001b[49m\u001b[38;5;124;43m\"\u001b[39;49m\u001b[38;5;124;43mcompression\u001b[39;49m\u001b[38;5;124;43m\"\u001b[39;49m\u001b[43m,\u001b[49m\u001b[43m \u001b[49m\u001b[38;5;28;43;01mNone\u001b[39;49;00m\u001b[43m)\u001b[49m\u001b[43m,\u001b[49m\n\u001b[1;32m   1885\u001b[0m \u001b[43m    \u001b[49m\u001b[43mmemory_map\u001b[49m\u001b[38;5;241;43m=\u001b[39;49m\u001b[38;5;28;43mself\u001b[39;49m\u001b[38;5;241;43m.\u001b[39;49m\u001b[43moptions\u001b[49m\u001b[38;5;241;43m.\u001b[39;49m\u001b[43mget\u001b[49m\u001b[43m(\u001b[49m\u001b[38;5;124;43m\"\u001b[39;49m\u001b[38;5;124;43mmemory_map\u001b[39;49m\u001b[38;5;124;43m\"\u001b[39;49m\u001b[43m,\u001b[49m\u001b[43m \u001b[49m\u001b[38;5;28;43;01mFalse\u001b[39;49;00m\u001b[43m)\u001b[49m\u001b[43m,\u001b[49m\n\u001b[1;32m   1886\u001b[0m \u001b[43m    \u001b[49m\u001b[43mis_text\u001b[49m\u001b[38;5;241;43m=\u001b[39;49m\u001b[43mis_text\u001b[49m\u001b[43m,\u001b[49m\n\u001b[1;32m   1887\u001b[0m \u001b[43m    \u001b[49m\u001b[43merrors\u001b[49m\u001b[38;5;241;43m=\u001b[39;49m\u001b[38;5;28;43mself\u001b[39;49m\u001b[38;5;241;43m.\u001b[39;49m\u001b[43moptions\u001b[49m\u001b[38;5;241;43m.\u001b[39;49m\u001b[43mget\u001b[49m\u001b[43m(\u001b[49m\u001b[38;5;124;43m\"\u001b[39;49m\u001b[38;5;124;43mencoding_errors\u001b[39;49m\u001b[38;5;124;43m\"\u001b[39;49m\u001b[43m,\u001b[49m\u001b[43m \u001b[49m\u001b[38;5;124;43m\"\u001b[39;49m\u001b[38;5;124;43mstrict\u001b[39;49m\u001b[38;5;124;43m\"\u001b[39;49m\u001b[43m)\u001b[49m\u001b[43m,\u001b[49m\n\u001b[1;32m   1888\u001b[0m \u001b[43m    \u001b[49m\u001b[43mstorage_options\u001b[49m\u001b[38;5;241;43m=\u001b[39;49m\u001b[38;5;28;43mself\u001b[39;49m\u001b[38;5;241;43m.\u001b[39;49m\u001b[43moptions\u001b[49m\u001b[38;5;241;43m.\u001b[39;49m\u001b[43mget\u001b[49m\u001b[43m(\u001b[49m\u001b[38;5;124;43m\"\u001b[39;49m\u001b[38;5;124;43mstorage_options\u001b[39;49m\u001b[38;5;124;43m\"\u001b[39;49m\u001b[43m,\u001b[49m\u001b[43m \u001b[49m\u001b[38;5;28;43;01mNone\u001b[39;49;00m\u001b[43m)\u001b[49m\u001b[43m,\u001b[49m\n\u001b[1;32m   1889\u001b[0m \u001b[43m\u001b[49m\u001b[43m)\u001b[49m\n\u001b[1;32m   1890\u001b[0m \u001b[38;5;28;01massert\u001b[39;00m \u001b[38;5;28mself\u001b[39m\u001b[38;5;241m.\u001b[39mhandles \u001b[38;5;129;01mis\u001b[39;00m \u001b[38;5;129;01mnot\u001b[39;00m \u001b[38;5;28;01mNone\u001b[39;00m\n\u001b[1;32m   1891\u001b[0m f \u001b[38;5;241m=\u001b[39m \u001b[38;5;28mself\u001b[39m\u001b[38;5;241m.\u001b[39mhandles\u001b[38;5;241m.\u001b[39mhandle\n",
      "File \u001b[0;32m~/anaconda3/envs/torch/lib/python3.10/site-packages/pandas/io/common.py:873\u001b[0m, in \u001b[0;36mget_handle\u001b[0;34m(path_or_buf, mode, encoding, compression, memory_map, is_text, errors, storage_options)\u001b[0m\n\u001b[1;32m    868\u001b[0m \u001b[38;5;28;01melif\u001b[39;00m \u001b[38;5;28misinstance\u001b[39m(handle, \u001b[38;5;28mstr\u001b[39m):\n\u001b[1;32m    869\u001b[0m     \u001b[38;5;66;03m# Check whether the filename is to be opened in binary mode.\u001b[39;00m\n\u001b[1;32m    870\u001b[0m     \u001b[38;5;66;03m# Binary mode does not support 'encoding' and 'newline'.\u001b[39;00m\n\u001b[1;32m    871\u001b[0m     \u001b[38;5;28;01mif\u001b[39;00m ioargs\u001b[38;5;241m.\u001b[39mencoding \u001b[38;5;129;01mand\u001b[39;00m \u001b[38;5;124m\"\u001b[39m\u001b[38;5;124mb\u001b[39m\u001b[38;5;124m\"\u001b[39m \u001b[38;5;129;01mnot\u001b[39;00m \u001b[38;5;129;01min\u001b[39;00m ioargs\u001b[38;5;241m.\u001b[39mmode:\n\u001b[1;32m    872\u001b[0m         \u001b[38;5;66;03m# Encoding\u001b[39;00m\n\u001b[0;32m--> 873\u001b[0m         handle \u001b[38;5;241m=\u001b[39m \u001b[38;5;28;43mopen\u001b[39;49m\u001b[43m(\u001b[49m\n\u001b[1;32m    874\u001b[0m \u001b[43m            \u001b[49m\u001b[43mhandle\u001b[49m\u001b[43m,\u001b[49m\n\u001b[1;32m    875\u001b[0m \u001b[43m            \u001b[49m\u001b[43mioargs\u001b[49m\u001b[38;5;241;43m.\u001b[39;49m\u001b[43mmode\u001b[49m\u001b[43m,\u001b[49m\n\u001b[1;32m    876\u001b[0m \u001b[43m            \u001b[49m\u001b[43mencoding\u001b[49m\u001b[38;5;241;43m=\u001b[39;49m\u001b[43mioargs\u001b[49m\u001b[38;5;241;43m.\u001b[39;49m\u001b[43mencoding\u001b[49m\u001b[43m,\u001b[49m\n\u001b[1;32m    877\u001b[0m \u001b[43m            \u001b[49m\u001b[43merrors\u001b[49m\u001b[38;5;241;43m=\u001b[39;49m\u001b[43merrors\u001b[49m\u001b[43m,\u001b[49m\n\u001b[1;32m    878\u001b[0m \u001b[43m            \u001b[49m\u001b[43mnewline\u001b[49m\u001b[38;5;241;43m=\u001b[39;49m\u001b[38;5;124;43m\"\u001b[39;49m\u001b[38;5;124;43m\"\u001b[39;49m\u001b[43m,\u001b[49m\n\u001b[1;32m    879\u001b[0m \u001b[43m        \u001b[49m\u001b[43m)\u001b[49m\n\u001b[1;32m    880\u001b[0m     \u001b[38;5;28;01melse\u001b[39;00m:\n\u001b[1;32m    881\u001b[0m         \u001b[38;5;66;03m# Binary mode\u001b[39;00m\n\u001b[1;32m    882\u001b[0m         handle \u001b[38;5;241m=\u001b[39m \u001b[38;5;28mopen\u001b[39m(handle, ioargs\u001b[38;5;241m.\u001b[39mmode)\n",
      "\u001b[0;31mFileNotFoundError\u001b[0m: [Errno 2] No such file or directory: 'data/rosbank/train.csv'"
     ]
    }
   ],
   "source": [
    "import os\n",
    "import pandas as pd\n",
    "\n",
    "data_path = 'data/rosbank'\n",
    "\n",
    "train = pd.read_csv(os.path.join(data_path, 'train.csv'))\n",
    "test = pd.read_csv(os.path.join(data_path, 'test.csv'))"
   ]
  },
  {
   "cell_type": "code",
   "execution_count": 2,
   "id": "495e0f29-8f65-4522-9123-12c73cd9b129",
   "metadata": {},
   "outputs": [
    {
     "ename": "NameError",
     "evalue": "name 'get_df_trx' is not defined",
     "output_type": "error",
     "traceback": [
      "\u001b[0;31m---------------------------------------------------------------------------\u001b[0m",
      "\u001b[0;31mNameError\u001b[0m                                 Traceback (most recent call last)",
      "Cell \u001b[0;32mIn[2], line 1\u001b[0m\n\u001b[0;32m----> 1\u001b[0m df_trx \u001b[38;5;241m=\u001b[39m \u001b[43mget_df_trx\u001b[49m(train, test)\n\u001b[1;32m      2\u001b[0m df_trx \u001b[38;5;241m=\u001b[39m df_trx\u001b[38;5;241m.\u001b[39mfillna(\u001b[38;5;124m\"\u001b[39m\u001b[38;5;124munknown_type\u001b[39m\u001b[38;5;124m\"\u001b[39m)\n\u001b[1;32m      3\u001b[0m df_target \u001b[38;5;241m=\u001b[39m get_df_target(train)\n",
      "\u001b[0;31mNameError\u001b[0m: name 'get_df_trx' is not defined"
     ]
    }
   ],
   "source": [
    "df_trx = get_df_trx(train, test)\n",
    "df_trx = df_trx.fillna(\"unknown_type\")\n",
    "df_target = get_df_target(train)"
   ]
  },
  {
   "cell_type": "code",
   "execution_count": 6,
   "id": "502cb1fb-9ffd-49f1-b657-31fbb82af301",
   "metadata": {},
   "outputs": [],
   "source": [
    "df_trx = df_trx.sort_values(by=[\"cl_id\", \"event_time\"], ascending=True)"
   ]
  },
  {
   "cell_type": "code",
   "execution_count": 7,
   "id": "99df0598-22da-4108-aa14-71ff75842963",
   "metadata": {},
   "outputs": [],
   "source": [
    "source_data = df_trx.rename({\"cl_id\" : \"client_id\", \"event_time\" : \"tr_datetime\"})"
   ]
  },
  {
   "cell_type": "code",
   "execution_count": 8,
   "id": "776967e5-5900-46ab-a4ef-e256e6fbcc7b",
   "metadata": {},
   "outputs": [],
   "source": [
    "source_data.rename(columns = {\"cl_id\" : \"client_id\", \"event_time\" : \"tr_datatime\"}, inplace=True)"
   ]
  },
  {
   "cell_type": "code",
   "execution_count": 9,
   "id": "3d609f76-e7cd-42ed-a0c8-d73032b514ef",
   "metadata": {},
   "outputs": [
    {
     "data": {
      "text/html": [
       "<div>\n",
       "<style scoped>\n",
       "    .dataframe tbody tr th:only-of-type {\n",
       "        vertical-align: middle;\n",
       "    }\n",
       "\n",
       "    .dataframe tbody tr th {\n",
       "        vertical-align: top;\n",
       "    }\n",
       "\n",
       "    .dataframe thead th {\n",
       "        text-align: right;\n",
       "    }\n",
       "</style>\n",
       "<table border=\"1\" class=\"dataframe\">\n",
       "  <thead>\n",
       "    <tr style=\"text-align: right;\">\n",
       "      <th></th>\n",
       "      <th>client_id</th>\n",
       "      <th>mcc</th>\n",
       "      <th>channel_type</th>\n",
       "      <th>currency</th>\n",
       "      <th>amount</th>\n",
       "      <th>trx_category</th>\n",
       "      <th>tr_datatime</th>\n",
       "    </tr>\n",
       "  </thead>\n",
       "  <tbody>\n",
       "    <tr>\n",
       "      <th>1</th>\n",
       "      <td>0</td>\n",
       "      <td>6011</td>\n",
       "      <td>unknown_type</td>\n",
       "      <td>810</td>\n",
       "      <td>20000.00</td>\n",
       "      <td>DEPOSIT</td>\n",
       "      <td>-701177753</td>\n",
       "    </tr>\n",
       "    <tr>\n",
       "      <th>0</th>\n",
       "      <td>0</td>\n",
       "      <td>5200</td>\n",
       "      <td>unknown_type</td>\n",
       "      <td>810</td>\n",
       "      <td>5023.00</td>\n",
       "      <td>POS</td>\n",
       "      <td>-700444800</td>\n",
       "    </tr>\n",
       "    <tr>\n",
       "      <th>3</th>\n",
       "      <td>0</td>\n",
       "      <td>5411</td>\n",
       "      <td>unknown_type</td>\n",
       "      <td>810</td>\n",
       "      <td>2031.00</td>\n",
       "      <td>POS</td>\n",
       "      <td>-700444800</td>\n",
       "    </tr>\n",
       "    <tr>\n",
       "      <th>4</th>\n",
       "      <td>0</td>\n",
       "      <td>6012</td>\n",
       "      <td>unknown_type</td>\n",
       "      <td>810</td>\n",
       "      <td>36562.00</td>\n",
       "      <td>C2C_OUT</td>\n",
       "      <td>-700137936</td>\n",
       "    </tr>\n",
       "    <tr>\n",
       "      <th>2</th>\n",
       "      <td>0</td>\n",
       "      <td>5921</td>\n",
       "      <td>unknown_type</td>\n",
       "      <td>810</td>\n",
       "      <td>767.00</td>\n",
       "      <td>POS</td>\n",
       "      <td>-696556800</td>\n",
       "    </tr>\n",
       "    <tr>\n",
       "      <th>...</th>\n",
       "      <td>...</td>\n",
       "      <td>...</td>\n",
       "      <td>...</td>\n",
       "      <td>...</td>\n",
       "      <td>...</td>\n",
       "      <td>...</td>\n",
       "      <td>...</td>\n",
       "    </tr>\n",
       "    <tr>\n",
       "      <th>1008299</th>\n",
       "      <td>10216</td>\n",
       "      <td>5411</td>\n",
       "      <td>type1</td>\n",
       "      <td>810</td>\n",
       "      <td>132.13</td>\n",
       "      <td>POS</td>\n",
       "      <td>-712886400</td>\n",
       "    </tr>\n",
       "    <tr>\n",
       "      <th>1008293</th>\n",
       "      <td>10216</td>\n",
       "      <td>5691</td>\n",
       "      <td>type1</td>\n",
       "      <td>810</td>\n",
       "      <td>2090.00</td>\n",
       "      <td>POS</td>\n",
       "      <td>-712540800</td>\n",
       "    </tr>\n",
       "    <tr>\n",
       "      <th>1008296</th>\n",
       "      <td>10216</td>\n",
       "      <td>5411</td>\n",
       "      <td>type1</td>\n",
       "      <td>810</td>\n",
       "      <td>1259.31</td>\n",
       "      <td>POS</td>\n",
       "      <td>-712540800</td>\n",
       "    </tr>\n",
       "    <tr>\n",
       "      <th>1008285</th>\n",
       "      <td>10216</td>\n",
       "      <td>5691</td>\n",
       "      <td>type1</td>\n",
       "      <td>810</td>\n",
       "      <td>1185.00</td>\n",
       "      <td>POS</td>\n",
       "      <td>-712454400</td>\n",
       "    </tr>\n",
       "    <tr>\n",
       "      <th>1008290</th>\n",
       "      <td>10216</td>\n",
       "      <td>7922</td>\n",
       "      <td>type1</td>\n",
       "      <td>810</td>\n",
       "      <td>1500.00</td>\n",
       "      <td>POS</td>\n",
       "      <td>-712454400</td>\n",
       "    </tr>\n",
       "  </tbody>\n",
       "</table>\n",
       "<p>1008889 rows × 7 columns</p>\n",
       "</div>"
      ],
      "text/plain": [
       "         client_id   mcc  channel_type  currency    amount trx_category  \\\n",
       "1                0  6011  unknown_type       810  20000.00      DEPOSIT   \n",
       "0                0  5200  unknown_type       810   5023.00          POS   \n",
       "3                0  5411  unknown_type       810   2031.00          POS   \n",
       "4                0  6012  unknown_type       810  36562.00      C2C_OUT   \n",
       "2                0  5921  unknown_type       810    767.00          POS   \n",
       "...            ...   ...           ...       ...       ...          ...   \n",
       "1008299      10216  5411         type1       810    132.13          POS   \n",
       "1008293      10216  5691         type1       810   2090.00          POS   \n",
       "1008296      10216  5411         type1       810   1259.31          POS   \n",
       "1008285      10216  5691         type1       810   1185.00          POS   \n",
       "1008290      10216  7922         type1       810   1500.00          POS   \n",
       "\n",
       "         tr_datatime  \n",
       "1         -701177753  \n",
       "0         -700444800  \n",
       "3         -700444800  \n",
       "4         -700137936  \n",
       "2         -696556800  \n",
       "...              ...  \n",
       "1008299   -712886400  \n",
       "1008293   -712540800  \n",
       "1008296   -712540800  \n",
       "1008285   -712454400  \n",
       "1008290   -712454400  \n",
       "\n",
       "[1008889 rows x 7 columns]"
      ]
     },
     "execution_count": 9,
     "metadata": {},
     "output_type": "execute_result"
    }
   ],
   "source": [
    "source_data"
   ]
  },
  {
   "cell_type": "code",
   "execution_count": 5,
   "id": "0dcedc0b-668c-4cfb-809f-4565d9bddbe3",
   "metadata": {},
   "outputs": [],
   "source": [
    "data_path = 'data/kaggle_nir_card_trans'\n",
    "\n",
    "data = pd.read_csv(os.path.join(data_path, 'credit_card_transactions.csv'))"
   ]
  },
  {
   "cell_type": "markdown",
   "id": "82f989bc",
   "metadata": {},
   "source": [
    "## Data preproccessing"
   ]
  },
  {
   "cell_type": "code",
   "execution_count": 2,
   "id": "0b3dd020-01ab-4761-98c7-cd71c385d45e",
   "metadata": {},
   "outputs": [],
   "source": [
    "def prepare_data_age_bins_scenario():\n",
    "    data_path = '../data/age_bins'\n",
    "\n",
    "    source_data = pd.read_csv(os.path.join(data_path, 'transactions_train.csv'))\n",
    "\n",
    "    df_params = {\n",
    "        \"numeric_cols\" : [\"amount_rur\"],\n",
    "        \"cat_cols\" : [\"small_group\"],\n",
    "        \"date_col\" : \"trans_date\",\n",
    "        \"cat_unique\" : [],\n",
    "        \"id_col\" : \"client_id\"\n",
    "    }\n",
    "\n",
    "    for f in df_params[\"cat_cols\"] + [df_params[\"date_col\"]]:\n",
    "        df_params[\"cat_unique\"].append(source_data[f].unique().shape[0])\n",
    "\n",
    "    return source_data, df_params\n",
    "\n",
    "def prepare_data_gender_scenario():\n",
    "    data_path = '../data/gender'\n",
    "\n",
    "    source_data = pd.read_csv(os.path.join(data_path, 'transactions.csv'))\n",
    "    source_data = source_data.drop(columns=[\"term_id\"]).rename(columns={'customer_id' : 'client_id'})\n",
    "\n",
    "    source_data.tr_datetime = [int(i.split()[0]) for i in source_data.tr_datetime.values]\n",
    "\n",
    "    df_params = {\n",
    "        \"numeric_cols\" : [\"amount\"],\n",
    "        \"cat_cols\" : [\"mcc_code\", \"tr_type\"],\n",
    "        \"cat_unique\" : [],\n",
    "        \"date_col\" : \"tr_datetime\",\n",
    "        \"id_col\" : \"client_id\"\n",
    "    }\n",
    "\n",
    "    for f in df_params[\"cat_cols\"] + [df_params[\"date_col\"]]:\n",
    "        df_params[\"cat_unique\"].append(source_data[f].unique().shape[0])\n",
    "    \n",
    "    return source_data, df_params"
   ]
  },
  {
   "cell_type": "code",
   "execution_count": 3,
   "id": "14d38fbf-5fb5-47e9-9081-92c7880745fb",
   "metadata": {
    "scrolled": true
   },
   "outputs": [
    {
     "data": {
      "text/html": [
       "<div>\n",
       "<style scoped>\n",
       "    .dataframe tbody tr th:only-of-type {\n",
       "        vertical-align: middle;\n",
       "    }\n",
       "\n",
       "    .dataframe tbody tr th {\n",
       "        vertical-align: top;\n",
       "    }\n",
       "\n",
       "    .dataframe thead th {\n",
       "        text-align: right;\n",
       "    }\n",
       "</style>\n",
       "<table border=\"1\" class=\"dataframe\">\n",
       "  <thead>\n",
       "    <tr style=\"text-align: right;\">\n",
       "      <th></th>\n",
       "      <th>client_id</th>\n",
       "      <th>tr_datetime</th>\n",
       "      <th>mcc_code</th>\n",
       "      <th>tr_type</th>\n",
       "      <th>amount</th>\n",
       "    </tr>\n",
       "  </thead>\n",
       "  <tbody>\n",
       "    <tr>\n",
       "      <th>0</th>\n",
       "      <td>39026145</td>\n",
       "      <td>0</td>\n",
       "      <td>4814</td>\n",
       "      <td>1030</td>\n",
       "      <td>-2245.92</td>\n",
       "    </tr>\n",
       "    <tr>\n",
       "      <th>1</th>\n",
       "      <td>39026145</td>\n",
       "      <td>1</td>\n",
       "      <td>6011</td>\n",
       "      <td>7010</td>\n",
       "      <td>56147.89</td>\n",
       "    </tr>\n",
       "  </tbody>\n",
       "</table>\n",
       "</div>"
      ],
      "text/plain": [
       "   client_id  tr_datetime  mcc_code  tr_type    amount\n",
       "0   39026145            0      4814     1030  -2245.92\n",
       "1   39026145            1      6011     7010  56147.89"
      ]
     },
     "execution_count": 3,
     "metadata": {},
     "output_type": "execute_result"
    }
   ],
   "source": [
    "#gender\n",
    "TARGET_NAME = 'gender'\n",
    "source_data, df_params = prepare_data_gender_scenario()\n",
    "#targets = pd.read_csv(os.path.join('../data/gender', 'gender_train.csv')).drop(columns=['Unnamed: 0'])\n",
    "targets = pd.read_csv(os.path.join('../data/gender', 'gender_train.csv')).rename(columns={'customer_id' : 'client_id'})\n",
    "targets = source_data[['client_id']].drop_duplicates().merge(targets, on='client_id', how='left').fillna(2)\n",
    "source_data.head(2)"
   ]
  },
  {
   "cell_type": "code",
   "execution_count": null,
   "id": "dce9032f-e768-41fb-bde5-1dc327f794fd",
   "metadata": {},
   "outputs": [],
   "source": [
    "TARGET_NAME = 'bins'\n",
    "source_data, df_params = prepare_data_age_bins_scenario()\n",
    "targets = pd.read_csv(os.path.join('../data/age_bins', 'train_target.csv'))\n",
    "source_data.head(2)"
   ]
  },
  {
   "cell_type": "code",
   "execution_count": 30,
   "id": "ab4fca8a-4d01-486f-b31b-2782d7a5c7f6",
   "metadata": {},
   "outputs": [
    {
     "data": {
      "text/plain": [
       "((26450577, 4), (30000, 2))"
      ]
     },
     "execution_count": 30,
     "metadata": {},
     "output_type": "execute_result"
    }
   ],
   "source": [
    "source_data.shape, targets.shape"
   ]
  },
  {
   "cell_type": "code",
   "execution_count": 4,
   "id": "8d7c1dd2-7a3b-4402-8bb7-89c28fb8273d",
   "metadata": {},
   "outputs": [],
   "source": [
    "EMBED_SIZE = 16\n",
    "\n",
    "df_params = {'numeric_cols': ['amount'],\n",
    "             'cat_cols': ['mcc_code', 'tr_type'],\n",
    "             'cat_unique': [184, 77, 457],\n",
    "             'date_col': 'tr_datetime',\n",
    "             'id_col': 'client_id'}\n",
    "\n",
    "#best discretizers\n",
    "\n",
    "disc_quant100 = KDiscretizer(\n",
    "    f_names = df_params['numeric_cols'],\n",
    "    k_bins = 100,\n",
    "    d_type = 'quantile'\n",
    ")\n",
    "\n",
    "deeptlf_params9 = DeepTLFDisc({\"n_est\" : 9,\n",
    "                  \"min_freq\" : 2,\n",
    "                  \"features\" : df_params['numeric_cols'] + df_params['cat_cols'],\n",
    "                  \"features_to_split\" : df_params['numeric_cols'],\n",
    "                  })\n",
    "\n",
    "disc_st20 = SingleTreeDiscretizer(\n",
    "    f_names = df_params['numeric_cols'], \n",
    "    target_name = TARGET_NAME, \n",
    "    target_type = 'classification', \n",
    "    k_bins = [20],\n",
    ")\n",
    "\n",
    "glove_config1= {\"alpha\" : 0.75, \n",
    "                \"x_max\" : 100, \n",
    "                \"embedding_size\" : EMBED_SIZE, \n",
    "                \"num_epochs_train\" : 50}\n",
    "\n",
    "glove_config2= {\"alpha\" : 0.75, \n",
    "                \"x_max\" : 15000, \n",
    "                \"embedding_size\" : EMBED_SIZE, \n",
    "                \"num_epochs_train\" : 50}\n",
    "\n",
    "glove_config3= {\"alpha\" : 1.0, \n",
    "                \"x_max\" : 20000, \n",
    "                \"embedding_size\" : EMBED_SIZE, \n",
    "                \"num_epochs_train\" : 50}\n",
    "\n",
    "experiments = [\n",
    "    {\n",
    "        'name' : 'glove_emb_cfg2_no_num_gender',\n",
    "        'glove_config' : copy.deepcopy(glove_config2),\n",
    "        'disc' : None\n",
    "    },\n",
    "    {\n",
    "        'name' : 'glove_emb_cfg1_ST20_gender',\n",
    "        'glove_config' : copy.deepcopy(glove_config1),\n",
    "        'disc' : copy.deepcopy(disc_st20)\n",
    "    },\n",
    "    {\n",
    "        'name' : 'glove_emb_cfg2_quant100_gender',\n",
    "        'glove_config' : copy.deepcopy(glove_config2),\n",
    "        'disc' : copy.deepcopy(disc_quant100)\n",
    "    },\n",
    "    {\n",
    "        'name' : 'glove_emb_cfg2_deeptlf9_gender',\n",
    "        'glove_config' : copy.deepcopy(glove_config2),\n",
    "        'disc' : copy.deepcopy(deeptlf_params9)\n",
    "    },\n",
    "]"
   ]
  },
  {
   "cell_type": "code",
   "execution_count": 8,
   "id": "8aa77255-aba2-4cab-acc3-1a3c225b0af5",
   "metadata": {
    "scrolled": true
   },
   "outputs": [
    {
     "name": "stdout",
     "output_type": "stream",
     "text": [
      "glove_emb_cfg1_ST20_gender\n"
     ]
    },
    {
     "data": {
      "application/vnd.jupyter.widget-view+json": {
       "model_id": "a98726139277496daba109718b0a7e17",
       "version_major": 2,
       "version_minor": 0
      },
      "text/plain": [
       "amount:   0%|          | 0/15 [00:00<?, ?it/s]"
      ]
     },
     "metadata": {},
     "output_type": "display_data"
    },
    {
     "name": "stdout",
     "output_type": "stream",
     "text": [
      "glove_emb_cfg1_ST20_gender: DATA DISCRETIZED\n",
      "['amount', 'mcc_code', 'tr_type', 'tr_datetime']\n",
      "train started\n"
     ]
    },
    {
     "name": "stderr",
     "output_type": "stream",
     "text": [
      "  2%|█▋                                                                                 | 1/50 [00:03<02:37,  3.21s/it]"
     ]
    },
    {
     "name": "stdout",
     "output_type": "stream",
     "text": [
      "Epoch 0: loss = 22958.36617102751\n"
     ]
    },
    {
     "name": "stderr",
     "output_type": "stream",
     "text": [
      "  4%|███▎                                                                               | 2/50 [00:06<02:33,  3.19s/it]"
     ]
    },
    {
     "name": "stdout",
     "output_type": "stream",
     "text": [
      "Epoch 1: loss = 10523.992249534625\n"
     ]
    },
    {
     "name": "stderr",
     "output_type": "stream",
     "text": [
      "  6%|████▉                                                                              | 3/50 [00:09<02:29,  3.18s/it]"
     ]
    },
    {
     "name": "stdout",
     "output_type": "stream",
     "text": [
      "Epoch 2: loss = 6326.358097757712\n"
     ]
    },
    {
     "name": "stderr",
     "output_type": "stream",
     "text": [
      "  8%|██████▋                                                                            | 4/50 [00:12<02:26,  3.17s/it]"
     ]
    },
    {
     "name": "stdout",
     "output_type": "stream",
     "text": [
      "Epoch 3: loss = 4155.217152508508\n"
     ]
    },
    {
     "name": "stderr",
     "output_type": "stream",
     "text": [
      " 10%|████████▎                                                                          | 5/50 [00:15<02:23,  3.20s/it]"
     ]
    },
    {
     "name": "stdout",
     "output_type": "stream",
     "text": [
      "Epoch 4: loss = 2911.1233751609507\n"
     ]
    },
    {
     "name": "stderr",
     "output_type": "stream",
     "text": [
      " 12%|█████████▉                                                                         | 6/50 [00:19<02:20,  3.19s/it]"
     ]
    },
    {
     "name": "stdout",
     "output_type": "stream",
     "text": [
      "Epoch 5: loss = 2151.796983737031\n"
     ]
    },
    {
     "name": "stderr",
     "output_type": "stream",
     "text": [
      " 14%|███████████▌                                                                       | 7/50 [00:22<02:17,  3.19s/it]"
     ]
    },
    {
     "name": "stdout",
     "output_type": "stream",
     "text": [
      "Epoch 6: loss = 1662.06335705988\n"
     ]
    },
    {
     "name": "stderr",
     "output_type": "stream",
     "text": [
      " 16%|█████████████▎                                                                     | 8/50 [00:25<02:13,  3.19s/it]"
     ]
    },
    {
     "name": "stdout",
     "output_type": "stream",
     "text": [
      "Epoch 7: loss = 1331.679476435582\n"
     ]
    },
    {
     "name": "stderr",
     "output_type": "stream",
     "text": [
      " 18%|██████████████▉                                                                    | 9/50 [00:28<02:10,  3.18s/it]"
     ]
    },
    {
     "name": "stdout",
     "output_type": "stream",
     "text": [
      "Epoch 8: loss = 1099.344674281207\n"
     ]
    },
    {
     "name": "stderr",
     "output_type": "stream",
     "text": [
      " 20%|████████████████▍                                                                 | 10/50 [00:31<02:06,  3.17s/it]"
     ]
    },
    {
     "name": "stdout",
     "output_type": "stream",
     "text": [
      "Epoch 9: loss = 930.5155555404872\n"
     ]
    },
    {
     "name": "stderr",
     "output_type": "stream",
     "text": [
      " 22%|██████████████████                                                                | 11/50 [00:35<02:03,  3.18s/it]"
     ]
    },
    {
     "name": "stdout",
     "output_type": "stream",
     "text": [
      "Epoch 10: loss = 804.3756171798061\n"
     ]
    },
    {
     "name": "stderr",
     "output_type": "stream",
     "text": [
      " 24%|███████████████████▋                                                              | 12/50 [00:38<02:00,  3.18s/it]"
     ]
    },
    {
     "name": "stdout",
     "output_type": "stream",
     "text": [
      "Epoch 11: loss = 707.6770620252612\n"
     ]
    },
    {
     "name": "stderr",
     "output_type": "stream",
     "text": [
      " 26%|█████████████████████▎                                                            | 13/50 [00:41<01:57,  3.18s/it]"
     ]
    },
    {
     "name": "stdout",
     "output_type": "stream",
     "text": [
      "Epoch 12: loss = 632.0498216359333\n"
     ]
    },
    {
     "name": "stderr",
     "output_type": "stream",
     "text": [
      " 28%|██████████████████████▉                                                           | 14/50 [00:44<01:55,  3.21s/it]"
     ]
    },
    {
     "name": "stdout",
     "output_type": "stream",
     "text": [
      "Epoch 13: loss = 571.7643885448082\n"
     ]
    },
    {
     "name": "stderr",
     "output_type": "stream",
     "text": [
      " 30%|████████████████████████▌                                                         | 15/50 [00:47<01:52,  3.22s/it]"
     ]
    },
    {
     "name": "stdout",
     "output_type": "stream",
     "text": [
      "Epoch 14: loss = 522.9468107612936\n"
     ]
    },
    {
     "name": "stderr",
     "output_type": "stream",
     "text": [
      " 32%|██████████████████████████▏                                                       | 16/50 [00:51<01:48,  3.20s/it]"
     ]
    },
    {
     "name": "stdout",
     "output_type": "stream",
     "text": [
      "Epoch 15: loss = 482.76049719272015\n"
     ]
    },
    {
     "name": "stderr",
     "output_type": "stream",
     "text": [
      " 34%|███████████████████████████▉                                                      | 17/50 [00:54<01:45,  3.19s/it]"
     ]
    },
    {
     "name": "stdout",
     "output_type": "stream",
     "text": [
      "Epoch 16: loss = 449.2795993789903\n"
     ]
    },
    {
     "name": "stderr",
     "output_type": "stream",
     "text": [
      " 36%|█████████████████████████████▌                                                    | 18/50 [00:57<01:41,  3.19s/it]"
     ]
    },
    {
     "name": "stdout",
     "output_type": "stream",
     "text": [
      "Epoch 17: loss = 420.96700789220654\n"
     ]
    },
    {
     "name": "stderr",
     "output_type": "stream",
     "text": [
      " 38%|███████████████████████████████▏                                                  | 19/50 [01:00<01:38,  3.19s/it]"
     ]
    },
    {
     "name": "stdout",
     "output_type": "stream",
     "text": [
      "Epoch 18: loss = 396.84408070957585\n"
     ]
    },
    {
     "name": "stderr",
     "output_type": "stream",
     "text": [
      " 40%|████████████████████████████████▊                                                 | 20/50 [01:03<01:35,  3.18s/it]"
     ]
    },
    {
     "name": "stdout",
     "output_type": "stream",
     "text": [
      "Epoch 19: loss = 376.0810565249416\n"
     ]
    },
    {
     "name": "stderr",
     "output_type": "stream",
     "text": [
      " 42%|██████████████████████████████████▍                                               | 21/50 [01:06<01:32,  3.17s/it]"
     ]
    },
    {
     "name": "stdout",
     "output_type": "stream",
     "text": [
      "Epoch 20: loss = 357.9397175855667\n"
     ]
    },
    {
     "name": "stderr",
     "output_type": "stream",
     "text": [
      " 44%|████████████████████████████████████                                              | 22/50 [01:10<01:29,  3.18s/it]"
     ]
    },
    {
     "name": "stdout",
     "output_type": "stream",
     "text": [
      "Epoch 21: loss = 342.06457926039604\n"
     ]
    },
    {
     "name": "stderr",
     "output_type": "stream",
     "text": [
      " 46%|█████████████████████████████████████▋                                            | 23/50 [01:13<01:25,  3.18s/it]"
     ]
    },
    {
     "name": "stdout",
     "output_type": "stream",
     "text": [
      "Epoch 22: loss = 328.0447257811901\n"
     ]
    },
    {
     "name": "stderr",
     "output_type": "stream",
     "text": [
      " 48%|███████████████████████████████████████▎                                          | 24/50 [01:16<01:23,  3.20s/it]"
     ]
    },
    {
     "name": "stdout",
     "output_type": "stream",
     "text": [
      "Epoch 23: loss = 315.59777687199636\n"
     ]
    },
    {
     "name": "stderr",
     "output_type": "stream",
     "text": [
      " 50%|█████████████████████████████████████████                                         | 25/50 [01:19<01:20,  3.20s/it]"
     ]
    },
    {
     "name": "stdout",
     "output_type": "stream",
     "text": [
      "Epoch 24: loss = 304.4683704580725\n"
     ]
    },
    {
     "name": "stderr",
     "output_type": "stream",
     "text": [
      " 52%|██████████████████████████████████████████▋                                       | 26/50 [01:22<01:16,  3.19s/it]"
     ]
    },
    {
     "name": "stdout",
     "output_type": "stream",
     "text": [
      "Epoch 25: loss = 294.51397111372734\n"
     ]
    },
    {
     "name": "stderr",
     "output_type": "stream",
     "text": [
      " 54%|████████████████████████████████████████████▎                                     | 27/50 [01:26<01:13,  3.18s/it]"
     ]
    },
    {
     "name": "stdout",
     "output_type": "stream",
     "text": [
      "Epoch 26: loss = 285.3670911847229\n"
     ]
    },
    {
     "name": "stderr",
     "output_type": "stream",
     "text": [
      " 56%|█████████████████████████████████████████████▉                                    | 28/50 [01:29<01:10,  3.19s/it]"
     ]
    },
    {
     "name": "stdout",
     "output_type": "stream",
     "text": [
      "Epoch 27: loss = 277.10890855861186\n"
     ]
    },
    {
     "name": "stderr",
     "output_type": "stream",
     "text": [
      " 58%|███████████████████████████████████████████████▌                                  | 29/50 [01:32<01:06,  3.18s/it]"
     ]
    },
    {
     "name": "stdout",
     "output_type": "stream",
     "text": [
      "Epoch 28: loss = 269.6145964197185\n"
     ]
    },
    {
     "name": "stderr",
     "output_type": "stream",
     "text": [
      " 60%|█████████████████████████████████████████████████▏                                | 30/50 [01:35<01:03,  3.18s/it]"
     ]
    },
    {
     "name": "stdout",
     "output_type": "stream",
     "text": [
      "Epoch 29: loss = 262.731207288144\n"
     ]
    },
    {
     "name": "stderr",
     "output_type": "stream",
     "text": [
      " 62%|██████████████████████████████████████████████████▊                               | 31/50 [01:38<01:00,  3.20s/it]"
     ]
    },
    {
     "name": "stdout",
     "output_type": "stream",
     "text": [
      "Epoch 30: loss = 256.4084936716876\n"
     ]
    },
    {
     "name": "stderr",
     "output_type": "stream",
     "text": [
      " 64%|████████████████████████████████████████████████████▍                             | 32/50 [01:42<00:57,  3.20s/it]"
     ]
    },
    {
     "name": "stdout",
     "output_type": "stream",
     "text": [
      "Epoch 31: loss = 250.5793704160927\n"
     ]
    },
    {
     "name": "stderr",
     "output_type": "stream",
     "text": [
      " 66%|██████████████████████████████████████████████████████                            | 33/50 [01:45<00:54,  3.20s/it]"
     ]
    },
    {
     "name": "stdout",
     "output_type": "stream",
     "text": [
      "Epoch 32: loss = 245.20702105860875\n"
     ]
    },
    {
     "name": "stderr",
     "output_type": "stream",
     "text": [
      " 68%|███████████████████████████████████████████████████████▊                          | 34/50 [01:48<00:51,  3.21s/it]"
     ]
    },
    {
     "name": "stdout",
     "output_type": "stream",
     "text": [
      "Epoch 33: loss = 240.23507430795718\n"
     ]
    },
    {
     "name": "stderr",
     "output_type": "stream",
     "text": [
      " 70%|█████████████████████████████████████████████████████████▍                        | 35/50 [01:51<00:48,  3.21s/it]"
     ]
    },
    {
     "name": "stdout",
     "output_type": "stream",
     "text": [
      "Epoch 34: loss = 235.52437218793486\n"
     ]
    },
    {
     "name": "stderr",
     "output_type": "stream",
     "text": [
      " 72%|███████████████████████████████████████████████████████████                       | 36/50 [01:54<00:44,  3.20s/it]"
     ]
    },
    {
     "name": "stdout",
     "output_type": "stream",
     "text": [
      "Epoch 35: loss = 231.16890927956098\n"
     ]
    },
    {
     "name": "stderr",
     "output_type": "stream",
     "text": [
      " 74%|████████████████████████████████████████████████████████████▋                     | 37/50 [01:58<00:41,  3.19s/it]"
     ]
    },
    {
     "name": "stdout",
     "output_type": "stream",
     "text": [
      "Epoch 36: loss = 227.1286360787513\n"
     ]
    },
    {
     "name": "stderr",
     "output_type": "stream",
     "text": [
      " 76%|██████████████████████████████████████████████████████████████▎                   | 38/50 [02:01<00:38,  3.19s/it]"
     ]
    },
    {
     "name": "stdout",
     "output_type": "stream",
     "text": [
      "Epoch 37: loss = 223.3137454245851\n"
     ]
    },
    {
     "name": "stderr",
     "output_type": "stream",
     "text": [
      " 78%|███████████████████████████████████████████████████████████████▉                  | 39/50 [02:04<00:35,  3.21s/it]"
     ]
    },
    {
     "name": "stdout",
     "output_type": "stream",
     "text": [
      "Epoch 38: loss = 219.72741762142638\n"
     ]
    },
    {
     "name": "stderr",
     "output_type": "stream",
     "text": [
      " 80%|█████████████████████████████████████████████████████████████████▌                | 40/50 [02:07<00:32,  3.20s/it]"
     ]
    },
    {
     "name": "stdout",
     "output_type": "stream",
     "text": [
      "Epoch 39: loss = 216.40419161298777\n"
     ]
    },
    {
     "name": "stderr",
     "output_type": "stream",
     "text": [
      " 82%|███████████████████████████████████████████████████████████████████▏              | 41/50 [02:10<00:28,  3.21s/it]"
     ]
    },
    {
     "name": "stdout",
     "output_type": "stream",
     "text": [
      "Epoch 40: loss = 213.20171208749252\n"
     ]
    },
    {
     "name": "stderr",
     "output_type": "stream",
     "text": [
      " 84%|████████████████████████████████████████████████████████████████████▉             | 42/50 [02:14<00:25,  3.19s/it]"
     ]
    },
    {
     "name": "stdout",
     "output_type": "stream",
     "text": [
      "Epoch 41: loss = 210.2063249060743\n"
     ]
    },
    {
     "name": "stderr",
     "output_type": "stream",
     "text": [
      " 86%|██████████████████████████████████████████████████████████████████████▌           | 43/50 [02:17<00:22,  3.19s/it]"
     ]
    },
    {
     "name": "stdout",
     "output_type": "stream",
     "text": [
      "Epoch 42: loss = 207.38154598091728\n"
     ]
    },
    {
     "name": "stderr",
     "output_type": "stream",
     "text": [
      " 88%|████████████████████████████████████████████████████████████████████████▏         | 44/50 [02:20<00:19,  3.20s/it]"
     ]
    },
    {
     "name": "stdout",
     "output_type": "stream",
     "text": [
      "Epoch 43: loss = 204.70033109617006\n"
     ]
    },
    {
     "name": "stderr",
     "output_type": "stream",
     "text": [
      " 90%|█████████████████████████████████████████████████████████████████████████▊        | 45/50 [02:23<00:15,  3.19s/it]"
     ]
    },
    {
     "name": "stdout",
     "output_type": "stream",
     "text": [
      "Epoch 44: loss = 202.14609255922528\n"
     ]
    },
    {
     "name": "stderr",
     "output_type": "stream",
     "text": [
      " 92%|███████████████████████████████████████████████████████████████████████████▍      | 46/50 [02:26<00:12,  3.19s/it]"
     ]
    },
    {
     "name": "stdout",
     "output_type": "stream",
     "text": [
      "Epoch 45: loss = 199.7573057390693\n"
     ]
    },
    {
     "name": "stderr",
     "output_type": "stream",
     "text": [
      " 94%|█████████████████████████████████████████████████████████████████████████████     | 47/50 [02:30<00:09,  3.20s/it]"
     ]
    },
    {
     "name": "stdout",
     "output_type": "stream",
     "text": [
      "Epoch 46: loss = 197.4514770673403\n"
     ]
    },
    {
     "name": "stderr",
     "output_type": "stream",
     "text": [
      " 96%|██████████████████████████████████████████████████████████████████████████████▋   | 48/50 [02:33<00:06,  3.19s/it]"
     ]
    },
    {
     "name": "stdout",
     "output_type": "stream",
     "text": [
      "Epoch 47: loss = 195.2645889965052\n"
     ]
    },
    {
     "name": "stderr",
     "output_type": "stream",
     "text": [
      " 98%|████████████████████████████████████████████████████████████████████████████████▎ | 49/50 [02:36<00:03,  3.19s/it]"
     ]
    },
    {
     "name": "stdout",
     "output_type": "stream",
     "text": [
      "Epoch 48: loss = 193.17191697960183\n"
     ]
    },
    {
     "name": "stderr",
     "output_type": "stream",
     "text": [
      "100%|██████████████████████████████████████████████████████████████████████████████████| 50/50 [02:39<00:00,  3.19s/it]"
     ]
    },
    {
     "name": "stdout",
     "output_type": "stream",
     "text": [
      "Epoch 49: loss = 191.1738770240357\n",
      "glove_emb_cfg1_ST20_gender: GLOVE EMB CALCULATED\n",
      "glove_emb_cfg2_quant100_gender\n"
     ]
    },
    {
     "name": "stderr",
     "output_type": "stream",
     "text": [
      "\n",
      "C:\\Users\\peter\\anaconda3\\envs\\cv\\lib\\site-packages\\sklearn\\preprocessing\\_discretization.py:230: UserWarning: Bins whose width are too small (i.e., <= 1e-8) in feature 0 are removed. Consider decreasing the number of bins.\n",
      "  warnings.warn(\n"
     ]
    },
    {
     "name": "stdout",
     "output_type": "stream",
     "text": [
      "glove_emb_cfg2_quant100_gender: DATA DISCRETIZED\n",
      "['amount', 'mcc_code', 'tr_type', 'tr_datetime']\n",
      "train started\n"
     ]
    },
    {
     "name": "stderr",
     "output_type": "stream",
     "text": [
      "  2%|█▋                                                                                 | 1/50 [00:05<04:16,  5.24s/it]"
     ]
    },
    {
     "name": "stdout",
     "output_type": "stream",
     "text": [
      "Epoch 0: loss = 4988.602693868986\n"
     ]
    },
    {
     "name": "stderr",
     "output_type": "stream",
     "text": [
      "  4%|███▎                                                                               | 2/50 [00:10<04:05,  5.12s/it]"
     ]
    },
    {
     "name": "stdout",
     "output_type": "stream",
     "text": [
      "Epoch 1: loss = 3002.113253057503\n"
     ]
    },
    {
     "name": "stderr",
     "output_type": "stream",
     "text": [
      "  6%|████▉                                                                              | 3/50 [00:15<04:00,  5.11s/it]"
     ]
    },
    {
     "name": "stdout",
     "output_type": "stream",
     "text": [
      "Epoch 2: loss = 2191.828488380358\n"
     ]
    },
    {
     "name": "stderr",
     "output_type": "stream",
     "text": [
      "  8%|██████▋                                                                            | 4/50 [00:20<03:54,  5.09s/it]"
     ]
    },
    {
     "name": "stdout",
     "output_type": "stream",
     "text": [
      "Epoch 3: loss = 1681.6202367533415\n"
     ]
    },
    {
     "name": "stderr",
     "output_type": "stream",
     "text": [
      " 10%|████████▎                                                                          | 5/50 [00:25<03:49,  5.11s/it]"
     ]
    },
    {
     "name": "stdout",
     "output_type": "stream",
     "text": [
      "Epoch 4: loss = 1328.1425988794183\n"
     ]
    },
    {
     "name": "stderr",
     "output_type": "stream",
     "text": [
      " 12%|█████████▉                                                                         | 6/50 [00:30<03:44,  5.09s/it]"
     ]
    },
    {
     "name": "stdout",
     "output_type": "stream",
     "text": [
      "Epoch 5: loss = 1071.3452951271925\n"
     ]
    },
    {
     "name": "stderr",
     "output_type": "stream",
     "text": [
      " 14%|███████████▌                                                                       | 7/50 [00:35<03:39,  5.10s/it]"
     ]
    },
    {
     "name": "stdout",
     "output_type": "stream",
     "text": [
      "Epoch 6: loss = 879.8085724224208\n"
     ]
    },
    {
     "name": "stderr",
     "output_type": "stream",
     "text": [
      " 16%|█████████████▎                                                                     | 8/50 [00:40<03:34,  5.10s/it]"
     ]
    },
    {
     "name": "stdout",
     "output_type": "stream",
     "text": [
      "Epoch 7: loss = 733.9020935287026\n"
     ]
    },
    {
     "name": "stderr",
     "output_type": "stream",
     "text": [
      " 18%|██████████████▉                                                                    | 9/50 [00:45<03:29,  5.10s/it]"
     ]
    },
    {
     "name": "stdout",
     "output_type": "stream",
     "text": [
      "Epoch 8: loss = 620.791485133929\n"
     ]
    },
    {
     "name": "stderr",
     "output_type": "stream",
     "text": [
      " 20%|████████████████▍                                                                 | 10/50 [00:51<03:23,  5.10s/it]"
     ]
    },
    {
     "name": "stdout",
     "output_type": "stream",
     "text": [
      "Epoch 9: loss = 531.9559749750656\n"
     ]
    },
    {
     "name": "stderr",
     "output_type": "stream",
     "text": [
      " 22%|██████████████████                                                                | 11/50 [00:56<03:19,  5.11s/it]"
     ]
    },
    {
     "name": "stdout",
     "output_type": "stream",
     "text": [
      "Epoch 10: loss = 461.22405230351615\n"
     ]
    },
    {
     "name": "stderr",
     "output_type": "stream",
     "text": [
      " 24%|███████████████████▋                                                              | 12/50 [01:01<03:14,  5.12s/it]"
     ]
    },
    {
     "name": "stdout",
     "output_type": "stream",
     "text": [
      "Epoch 11: loss = 404.292967590949\n"
     ]
    },
    {
     "name": "stderr",
     "output_type": "stream",
     "text": [
      " 26%|█████████████████████▎                                                            | 13/50 [01:06<03:09,  5.12s/it]"
     ]
    },
    {
     "name": "stdout",
     "output_type": "stream",
     "text": [
      "Epoch 12: loss = 357.96212009985834\n"
     ]
    },
    {
     "name": "stderr",
     "output_type": "stream",
     "text": [
      " 28%|██████████████████████▉                                                           | 14/50 [01:11<03:03,  5.10s/it]"
     ]
    },
    {
     "name": "stdout",
     "output_type": "stream",
     "text": [
      "Epoch 13: loss = 319.87098032515894\n"
     ]
    },
    {
     "name": "stderr",
     "output_type": "stream",
     "text": [
      " 30%|████████████████████████▌                                                         | 15/50 [01:16<02:59,  5.12s/it]"
     ]
    },
    {
     "name": "stdout",
     "output_type": "stream",
     "text": [
      "Epoch 14: loss = 288.2350899832037\n"
     ]
    },
    {
     "name": "stderr",
     "output_type": "stream",
     "text": [
      " 32%|██████████████████████████▏                                                       | 16/50 [01:21<02:53,  5.11s/it]"
     ]
    },
    {
     "name": "stdout",
     "output_type": "stream",
     "text": [
      "Epoch 15: loss = 261.7261420605278\n"
     ]
    },
    {
     "name": "stderr",
     "output_type": "stream",
     "text": [
      " 34%|███████████████████████████▉                                                      | 17/50 [01:26<02:48,  5.11s/it]"
     ]
    },
    {
     "name": "stdout",
     "output_type": "stream",
     "text": [
      "Epoch 16: loss = 239.30395875145513\n"
     ]
    },
    {
     "name": "stderr",
     "output_type": "stream",
     "text": [
      " 36%|█████████████████████████████▌                                                    | 18/50 [01:31<02:43,  5.10s/it]"
     ]
    },
    {
     "name": "stdout",
     "output_type": "stream",
     "text": [
      "Epoch 17: loss = 220.18571168009387\n"
     ]
    },
    {
     "name": "stderr",
     "output_type": "stream",
     "text": [
      " 38%|███████████████████████████████▏                                                  | 19/50 [01:37<02:38,  5.12s/it]"
     ]
    },
    {
     "name": "stdout",
     "output_type": "stream",
     "text": [
      "Epoch 18: loss = 203.7410010006235\n"
     ]
    },
    {
     "name": "stderr",
     "output_type": "stream",
     "text": [
      " 40%|████████████████████████████████▊                                                 | 20/50 [01:42<02:33,  5.11s/it]"
     ]
    },
    {
     "name": "stdout",
     "output_type": "stream",
     "text": [
      "Epoch 19: loss = 189.49613678167455\n"
     ]
    },
    {
     "name": "stderr",
     "output_type": "stream",
     "text": [
      " 42%|██████████████████████████████████▍                                               | 21/50 [01:47<02:28,  5.12s/it]"
     ]
    },
    {
     "name": "stdout",
     "output_type": "stream",
     "text": [
      "Epoch 20: loss = 177.03796832403268\n"
     ]
    },
    {
     "name": "stderr",
     "output_type": "stream",
     "text": [
      " 44%|████████████████████████████████████                                              | 22/50 [01:52<02:23,  5.11s/it]"
     ]
    },
    {
     "name": "stdout",
     "output_type": "stream",
     "text": [
      "Epoch 21: loss = 166.0883758602466\n"
     ]
    },
    {
     "name": "stderr",
     "output_type": "stream",
     "text": [
      " 46%|█████████████████████████████████████▋                                            | 23/50 [01:57<02:18,  5.12s/it]"
     ]
    },
    {
     "name": "stdout",
     "output_type": "stream",
     "text": [
      "Epoch 22: loss = 156.39864032782856\n"
     ]
    },
    {
     "name": "stderr",
     "output_type": "stream",
     "text": [
      " 48%|███████████████████████████████████████▎                                          | 24/50 [02:02<02:12,  5.12s/it]"
     ]
    },
    {
     "name": "stdout",
     "output_type": "stream",
     "text": [
      "Epoch 23: loss = 147.77516266025614\n"
     ]
    },
    {
     "name": "stderr",
     "output_type": "stream",
     "text": [
      " 50%|█████████████████████████████████████████                                         | 25/50 [02:07<02:08,  5.13s/it]"
     ]
    },
    {
     "name": "stdout",
     "output_type": "stream",
     "text": [
      "Epoch 24: loss = 140.0465795553\n"
     ]
    },
    {
     "name": "stderr",
     "output_type": "stream",
     "text": [
      " 52%|██████████████████████████████████████████▋                                       | 26/50 [02:12<02:02,  5.12s/it]"
     ]
    },
    {
     "name": "stdout",
     "output_type": "stream",
     "text": [
      "Epoch 25: loss = 133.08524580761437\n"
     ]
    },
    {
     "name": "stderr",
     "output_type": "stream",
     "text": [
      " 54%|████████████████████████████████████████████▎                                     | 27/50 [02:18<01:58,  5.13s/it]"
     ]
    },
    {
     "name": "stdout",
     "output_type": "stream",
     "text": [
      "Epoch 26: loss = 126.78990073601096\n"
     ]
    },
    {
     "name": "stderr",
     "output_type": "stream",
     "text": [
      " 56%|█████████████████████████████████████████████▉                                    | 28/50 [02:23<01:52,  5.12s/it]"
     ]
    },
    {
     "name": "stdout",
     "output_type": "stream",
     "text": [
      "Epoch 27: loss = 121.05337987605486\n"
     ]
    },
    {
     "name": "stderr",
     "output_type": "stream",
     "text": [
      " 58%|███████████████████████████████████████████████▌                                  | 29/50 [02:28<01:47,  5.13s/it]"
     ]
    },
    {
     "name": "stdout",
     "output_type": "stream",
     "text": [
      "Epoch 28: loss = 115.8232476679292\n"
     ]
    },
    {
     "name": "stderr",
     "output_type": "stream",
     "text": [
      " 60%|█████████████████████████████████████████████████▏                                | 30/50 [02:33<01:42,  5.12s/it]"
     ]
    },
    {
     "name": "stdout",
     "output_type": "stream",
     "text": [
      "Epoch 29: loss = 111.0273441995998\n"
     ]
    },
    {
     "name": "stderr",
     "output_type": "stream",
     "text": [
      " 62%|██████████████████████████████████████████████████▊                               | 31/50 [02:38<01:37,  5.13s/it]"
     ]
    },
    {
     "name": "stdout",
     "output_type": "stream",
     "text": [
      "Epoch 30: loss = 106.61023585554418\n"
     ]
    },
    {
     "name": "stderr",
     "output_type": "stream",
     "text": [
      " 64%|████████████████████████████████████████████████████▍                             | 32/50 [02:43<01:32,  5.13s/it]"
     ]
    },
    {
     "name": "stdout",
     "output_type": "stream",
     "text": [
      "Epoch 31: loss = 102.53386953644939\n"
     ]
    },
    {
     "name": "stderr",
     "output_type": "stream",
     "text": [
      " 66%|██████████████████████████████████████████████████████                            | 33/50 [02:48<01:27,  5.14s/it]"
     ]
    },
    {
     "name": "stdout",
     "output_type": "stream",
     "text": [
      "Epoch 32: loss = 98.75930086718571\n"
     ]
    },
    {
     "name": "stderr",
     "output_type": "stream",
     "text": [
      " 68%|███████████████████████████████████████████████████████▊                          | 34/50 [02:54<01:22,  5.13s/it]"
     ]
    },
    {
     "name": "stdout",
     "output_type": "stream",
     "text": [
      "Epoch 33: loss = 95.25660058692775\n"
     ]
    },
    {
     "name": "stderr",
     "output_type": "stream",
     "text": [
      " 70%|█████████████████████████████████████████████████████████▍                        | 35/50 [02:59<01:17,  5.15s/it]"
     ]
    },
    {
     "name": "stdout",
     "output_type": "stream",
     "text": [
      "Epoch 34: loss = 91.99160826118758\n"
     ]
    },
    {
     "name": "stderr",
     "output_type": "stream",
     "text": [
      " 72%|███████████████████████████████████████████████████████████                       | 36/50 [03:04<01:11,  5.13s/it]"
     ]
    },
    {
     "name": "stdout",
     "output_type": "stream",
     "text": [
      "Epoch 35: loss = 88.94017296336227\n"
     ]
    },
    {
     "name": "stderr",
     "output_type": "stream",
     "text": [
      " 74%|████████████████████████████████████████████████████████████▋                     | 37/50 [03:09<01:06,  5.14s/it]"
     ]
    },
    {
     "name": "stdout",
     "output_type": "stream",
     "text": [
      "Epoch 36: loss = 86.08750939302861\n"
     ]
    },
    {
     "name": "stderr",
     "output_type": "stream",
     "text": [
      " 76%|██████████████████████████████████████████████████████████████▎                   | 38/50 [03:14<01:01,  5.12s/it]"
     ]
    },
    {
     "name": "stdout",
     "output_type": "stream",
     "text": [
      "Epoch 37: loss = 83.41477473246844\n"
     ]
    },
    {
     "name": "stderr",
     "output_type": "stream",
     "text": [
      " 78%|███████████████████████████████████████████████████████████████▉                  | 39/50 [03:19<00:56,  5.14s/it]"
     ]
    },
    {
     "name": "stdout",
     "output_type": "stream",
     "text": [
      "Epoch 38: loss = 80.90776361238458\n"
     ]
    },
    {
     "name": "stderr",
     "output_type": "stream",
     "text": [
      " 80%|█████████████████████████████████████████████████████████████████▌                | 40/50 [03:24<00:51,  5.16s/it]"
     ]
    },
    {
     "name": "stdout",
     "output_type": "stream",
     "text": [
      "Epoch 39: loss = 78.53480202365606\n"
     ]
    },
    {
     "name": "stderr",
     "output_type": "stream",
     "text": [
      " 82%|███████████████████████████████████████████████████████████████████▏              | 41/50 [03:30<00:47,  5.26s/it]"
     ]
    },
    {
     "name": "stdout",
     "output_type": "stream",
     "text": [
      "Epoch 40: loss = 76.30391139261158\n"
     ]
    },
    {
     "name": "stderr",
     "output_type": "stream",
     "text": [
      " 84%|████████████████████████████████████████████████████████████████████▉             | 42/50 [03:35<00:42,  5.31s/it]"
     ]
    },
    {
     "name": "stdout",
     "output_type": "stream",
     "text": [
      "Epoch 41: loss = 74.19668775207836\n"
     ]
    },
    {
     "name": "stderr",
     "output_type": "stream",
     "text": [
      " 86%|██████████████████████████████████████████████████████████████████████▌           | 43/50 [03:41<00:37,  5.35s/it]"
     ]
    },
    {
     "name": "stdout",
     "output_type": "stream",
     "text": [
      "Epoch 42: loss = 72.20612779252674\n"
     ]
    },
    {
     "name": "stderr",
     "output_type": "stream",
     "text": [
      " 88%|████████████████████████████████████████████████████████████████████████▏         | 44/50 [03:46<00:32,  5.37s/it]"
     ]
    },
    {
     "name": "stdout",
     "output_type": "stream",
     "text": [
      "Epoch 43: loss = 70.31483757896109\n"
     ]
    },
    {
     "name": "stderr",
     "output_type": "stream",
     "text": [
      " 90%|█████████████████████████████████████████████████████████████████████████▊        | 45/50 [03:52<00:27,  5.40s/it]"
     ]
    },
    {
     "name": "stdout",
     "output_type": "stream",
     "text": [
      "Epoch 44: loss = 68.52550300586952\n"
     ]
    },
    {
     "name": "stderr",
     "output_type": "stream",
     "text": [
      " 92%|███████████████████████████████████████████████████████████████████████████▍      | 46/50 [03:57<00:21,  5.40s/it]"
     ]
    },
    {
     "name": "stdout",
     "output_type": "stream",
     "text": [
      "Epoch 45: loss = 66.82276656628916\n"
     ]
    },
    {
     "name": "stderr",
     "output_type": "stream",
     "text": [
      " 94%|█████████████████████████████████████████████████████████████████████████████     | 47/50 [04:02<00:16,  5.41s/it]"
     ]
    },
    {
     "name": "stdout",
     "output_type": "stream",
     "text": [
      "Epoch 46: loss = 65.20931358399126\n"
     ]
    },
    {
     "name": "stderr",
     "output_type": "stream",
     "text": [
      " 96%|██████████████████████████████████████████████████████████████████████████████▋   | 48/50 [04:08<00:10,  5.41s/it]"
     ]
    },
    {
     "name": "stdout",
     "output_type": "stream",
     "text": [
      "Epoch 47: loss = 63.66732880364436\n"
     ]
    },
    {
     "name": "stderr",
     "output_type": "stream",
     "text": [
      " 98%|████████████████████████████████████████████████████████████████████████████████▎ | 49/50 [04:13<00:05,  5.42s/it]"
     ]
    },
    {
     "name": "stdout",
     "output_type": "stream",
     "text": [
      "Epoch 48: loss = 62.19962322595992\n"
     ]
    },
    {
     "name": "stderr",
     "output_type": "stream",
     "text": [
      "100%|██████████████████████████████████████████████████████████████████████████████████| 50/50 [04:19<00:00,  5.19s/it]"
     ]
    },
    {
     "name": "stdout",
     "output_type": "stream",
     "text": [
      "Epoch 49: loss = 60.798676678265366\n",
      "glove_emb_cfg2_quant100_gender: GLOVE EMB CALCULATED\n",
      "glove_emb_cfg2_deeptlf9_gender\n"
     ]
    },
    {
     "name": "stderr",
     "output_type": "stream",
     "text": [
      "\n"
     ]
    },
    {
     "name": "stdout",
     "output_type": "stream",
     "text": [
      "Counter({'mcc_code': 150, 'tr_type': 143, 'amount': 64})\n",
      "glove_emb_cfg2_deeptlf9_gender: DATA DISCRETIZED\n",
      "['amount', 'mcc_code', 'tr_type', 'tr_datetime']\n",
      "train started\n"
     ]
    },
    {
     "name": "stderr",
     "output_type": "stream",
     "text": [
      "  2%|█▋                                                                                 | 1/50 [00:03<02:44,  3.35s/it]"
     ]
    },
    {
     "name": "stdout",
     "output_type": "stream",
     "text": [
      "Epoch 0: loss = 3805.5229135961567\n"
     ]
    },
    {
     "name": "stderr",
     "output_type": "stream",
     "text": [
      "  4%|███▎                                                                               | 2/50 [00:06<02:39,  3.33s/it]"
     ]
    },
    {
     "name": "stdout",
     "output_type": "stream",
     "text": [
      "Epoch 1: loss = 2070.0608300871563\n"
     ]
    },
    {
     "name": "stderr",
     "output_type": "stream",
     "text": [
      "  6%|████▉                                                                              | 3/50 [00:10<02:36,  3.34s/it]"
     ]
    },
    {
     "name": "stdout",
     "output_type": "stream",
     "text": [
      "Epoch 2: loss = 1394.059788785447\n"
     ]
    },
    {
     "name": "stderr",
     "output_type": "stream",
     "text": [
      "  8%|██████▋                                                                            | 4/50 [00:13<02:32,  3.31s/it]"
     ]
    },
    {
     "name": "stdout",
     "output_type": "stream",
     "text": [
      "Epoch 3: loss = 995.9911619094213\n"
     ]
    },
    {
     "name": "stderr",
     "output_type": "stream",
     "text": [
      " 10%|████████▎                                                                          | 5/50 [00:16<02:28,  3.30s/it]"
     ]
    },
    {
     "name": "stdout",
     "output_type": "stream",
     "text": [
      "Epoch 4: loss = 743.4208096079205\n"
     ]
    },
    {
     "name": "stderr",
     "output_type": "stream",
     "text": [
      " 12%|█████████▉                                                                         | 6/50 [00:19<02:25,  3.31s/it]"
     ]
    },
    {
     "name": "stdout",
     "output_type": "stream",
     "text": [
      "Epoch 5: loss = 575.7754895339234\n"
     ]
    },
    {
     "name": "stderr",
     "output_type": "stream",
     "text": [
      " 14%|███████████▌                                                                       | 7/50 [00:23<02:21,  3.30s/it]"
     ]
    },
    {
     "name": "stdout",
     "output_type": "stream",
     "text": [
      "Epoch 6: loss = 457.03808982283346\n"
     ]
    },
    {
     "name": "stderr",
     "output_type": "stream",
     "text": [
      " 16%|█████████████▎                                                                     | 8/50 [00:26<02:18,  3.30s/it]"
     ]
    },
    {
     "name": "stdout",
     "output_type": "stream",
     "text": [
      "Epoch 7: loss = 373.14108765893184\n"
     ]
    },
    {
     "name": "stderr",
     "output_type": "stream",
     "text": [
      " 18%|██████████████▉                                                                    | 9/50 [00:29<02:15,  3.30s/it]"
     ]
    },
    {
     "name": "stdout",
     "output_type": "stream",
     "text": [
      "Epoch 8: loss = 311.14780113005725\n"
     ]
    },
    {
     "name": "stderr",
     "output_type": "stream",
     "text": [
      " 20%|████████████████▍                                                                 | 10/50 [00:33<02:11,  3.29s/it]"
     ]
    },
    {
     "name": "stdout",
     "output_type": "stream",
     "text": [
      "Epoch 9: loss = 264.19424469428907\n"
     ]
    },
    {
     "name": "stderr",
     "output_type": "stream",
     "text": [
      " 22%|██████████████████                                                                | 11/50 [00:36<02:15,  3.47s/it]"
     ]
    },
    {
     "name": "stdout",
     "output_type": "stream",
     "text": [
      "Epoch 10: loss = 227.91685134512934\n"
     ]
    },
    {
     "name": "stderr",
     "output_type": "stream",
     "text": [
      " 24%|███████████████████▋                                                              | 12/50 [00:40<02:09,  3.42s/it]"
     ]
    },
    {
     "name": "stdout",
     "output_type": "stream",
     "text": [
      "Epoch 11: loss = 199.2736963011205\n"
     ]
    },
    {
     "name": "stderr",
     "output_type": "stream",
     "text": [
      " 26%|█████████████████████▎                                                            | 13/50 [00:43<02:06,  3.43s/it]"
     ]
    },
    {
     "name": "stdout",
     "output_type": "stream",
     "text": [
      "Epoch 12: loss = 176.3528754936025\n"
     ]
    },
    {
     "name": "stderr",
     "output_type": "stream",
     "text": [
      " 28%|██████████████████████▉                                                           | 14/50 [00:47<02:04,  3.45s/it]"
     ]
    },
    {
     "name": "stdout",
     "output_type": "stream",
     "text": [
      "Epoch 13: loss = 157.67765002853872\n"
     ]
    },
    {
     "name": "stderr",
     "output_type": "stream",
     "text": [
      " 30%|████████████████████████▌                                                         | 15/50 [00:50<02:01,  3.47s/it]"
     ]
    },
    {
     "name": "stdout",
     "output_type": "stream",
     "text": [
      "Epoch 14: loss = 142.33947260546464\n"
     ]
    },
    {
     "name": "stderr",
     "output_type": "stream",
     "text": [
      " 32%|██████████████████████████▏                                                       | 16/50 [00:54<01:58,  3.47s/it]"
     ]
    },
    {
     "name": "stdout",
     "output_type": "stream",
     "text": [
      "Epoch 15: loss = 129.5610024880736\n"
     ]
    },
    {
     "name": "stderr",
     "output_type": "stream",
     "text": [
      " 34%|███████████████████████████▉                                                      | 17/50 [00:57<01:55,  3.49s/it]"
     ]
    },
    {
     "name": "stdout",
     "output_type": "stream",
     "text": [
      "Epoch 16: loss = 118.80312965296947\n"
     ]
    },
    {
     "name": "stderr",
     "output_type": "stream",
     "text": [
      " 36%|█████████████████████████████▌                                                    | 18/50 [01:01<01:51,  3.50s/it]"
     ]
    },
    {
     "name": "stdout",
     "output_type": "stream",
     "text": [
      "Epoch 17: loss = 109.60810828377537\n"
     ]
    },
    {
     "name": "stderr",
     "output_type": "stream",
     "text": [
      " 38%|███████████████████████████████▏                                                  | 19/50 [01:04<01:48,  3.51s/it]"
     ]
    },
    {
     "name": "stdout",
     "output_type": "stream",
     "text": [
      "Epoch 18: loss = 101.72626528011403\n"
     ]
    },
    {
     "name": "stderr",
     "output_type": "stream",
     "text": [
      " 40%|████████████████████████████████▊                                                 | 20/50 [01:08<01:45,  3.53s/it]"
     ]
    },
    {
     "name": "stdout",
     "output_type": "stream",
     "text": [
      "Epoch 19: loss = 94.909748976637\n"
     ]
    },
    {
     "name": "stderr",
     "output_type": "stream",
     "text": [
      " 42%|██████████████████████████████████▍                                               | 21/50 [01:11<01:43,  3.57s/it]"
     ]
    },
    {
     "name": "stdout",
     "output_type": "stream",
     "text": [
      "Epoch 20: loss = 88.95940377753588\n"
     ]
    },
    {
     "name": "stderr",
     "output_type": "stream",
     "text": [
      " 44%|████████████████████████████████████                                              | 22/50 [01:15<01:39,  3.55s/it]"
     ]
    },
    {
     "name": "stdout",
     "output_type": "stream",
     "text": [
      "Epoch 21: loss = 83.682228362428\n"
     ]
    },
    {
     "name": "stderr",
     "output_type": "stream",
     "text": [
      " 46%|█████████████████████████████████████▋                                            | 23/50 [01:18<01:35,  3.53s/it]"
     ]
    },
    {
     "name": "stdout",
     "output_type": "stream",
     "text": [
      "Epoch 22: loss = 79.07220952006809\n"
     ]
    },
    {
     "name": "stderr",
     "output_type": "stream",
     "text": [
      " 48%|███████████████████████████████████████▎                                          | 24/50 [01:22<01:31,  3.53s/it]"
     ]
    },
    {
     "name": "stdout",
     "output_type": "stream",
     "text": [
      "Epoch 23: loss = 74.88029885659478\n"
     ]
    },
    {
     "name": "stderr",
     "output_type": "stream",
     "text": [
      " 50%|█████████████████████████████████████████                                         | 25/50 [01:26<01:28,  3.53s/it]"
     ]
    },
    {
     "name": "stdout",
     "output_type": "stream",
     "text": [
      "Epoch 24: loss = 71.1572345026142\n"
     ]
    },
    {
     "name": "stderr",
     "output_type": "stream",
     "text": [
      " 52%|██████████████████████████████████████████▋                                       | 26/50 [01:29<01:24,  3.52s/it]"
     ]
    },
    {
     "name": "stdout",
     "output_type": "stream",
     "text": [
      "Epoch 25: loss = 67.79030240418481\n"
     ]
    },
    {
     "name": "stderr",
     "output_type": "stream",
     "text": [
      " 54%|████████████████████████████████████████████▎                                     | 27/50 [01:33<01:20,  3.51s/it]"
     ]
    },
    {
     "name": "stdout",
     "output_type": "stream",
     "text": [
      "Epoch 26: loss = 64.76422863921741\n"
     ]
    },
    {
     "name": "stderr",
     "output_type": "stream",
     "text": [
      " 56%|█████████████████████████████████████████████▉                                    | 28/50 [01:36<01:17,  3.51s/it]"
     ]
    },
    {
     "name": "stdout",
     "output_type": "stream",
     "text": [
      "Epoch 27: loss = 61.978349947781524\n"
     ]
    },
    {
     "name": "stderr",
     "output_type": "stream",
     "text": [
      " 58%|███████████████████████████████████████████████▌                                  | 29/50 [01:40<01:13,  3.50s/it]"
     ]
    },
    {
     "name": "stdout",
     "output_type": "stream",
     "text": [
      "Epoch 28: loss = 59.408912517560736\n"
     ]
    },
    {
     "name": "stderr",
     "output_type": "stream",
     "text": [
      " 60%|█████████████████████████████████████████████████▏                                | 30/50 [01:43<01:10,  3.52s/it]"
     ]
    },
    {
     "name": "stdout",
     "output_type": "stream",
     "text": [
      "Epoch 29: loss = 57.066086564771865\n"
     ]
    },
    {
     "name": "stderr",
     "output_type": "stream",
     "text": [
      " 62%|██████████████████████████████████████████████████▊                               | 31/50 [01:47<01:06,  3.52s/it]"
     ]
    },
    {
     "name": "stdout",
     "output_type": "stream",
     "text": [
      "Epoch 30: loss = 54.92260112644076\n"
     ]
    },
    {
     "name": "stderr",
     "output_type": "stream",
     "text": [
      " 64%|████████████████████████████████████████████████████▍                             | 32/50 [01:50<01:03,  3.50s/it]"
     ]
    },
    {
     "name": "stdout",
     "output_type": "stream",
     "text": [
      "Epoch 31: loss = 52.918234829356926\n"
     ]
    },
    {
     "name": "stderr",
     "output_type": "stream",
     "text": [
      " 66%|██████████████████████████████████████████████████████                            | 33/50 [01:54<00:59,  3.50s/it]"
     ]
    },
    {
     "name": "stdout",
     "output_type": "stream",
     "text": [
      "Epoch 32: loss = 51.069981166306356\n"
     ]
    },
    {
     "name": "stderr",
     "output_type": "stream",
     "text": [
      " 68%|███████████████████████████████████████████████████████▊                          | 34/50 [01:57<00:56,  3.50s/it]"
     ]
    },
    {
     "name": "stdout",
     "output_type": "stream",
     "text": [
      "Epoch 33: loss = 49.37788416193112\n"
     ]
    },
    {
     "name": "stderr",
     "output_type": "stream",
     "text": [
      " 70%|█████████████████████████████████████████████████████████▍                        | 35/50 [02:01<00:52,  3.50s/it]"
     ]
    },
    {
     "name": "stdout",
     "output_type": "stream",
     "text": [
      "Epoch 34: loss = 47.743530474292456\n"
     ]
    },
    {
     "name": "stderr",
     "output_type": "stream",
     "text": [
      " 72%|███████████████████████████████████████████████████████████                       | 36/50 [02:04<00:48,  3.50s/it]"
     ]
    },
    {
     "name": "stdout",
     "output_type": "stream",
     "text": [
      "Epoch 35: loss = 46.23500146924682\n"
     ]
    },
    {
     "name": "stderr",
     "output_type": "stream",
     "text": [
      " 74%|████████████████████████████████████████████████████████████▋                     | 37/50 [02:08<00:46,  3.55s/it]"
     ]
    },
    {
     "name": "stdout",
     "output_type": "stream",
     "text": [
      "Epoch 36: loss = 44.85954385084393\n"
     ]
    },
    {
     "name": "stderr",
     "output_type": "stream",
     "text": [
      " 76%|██████████████████████████████████████████████████████████████▎                   | 38/50 [02:11<00:42,  3.55s/it]"
     ]
    },
    {
     "name": "stdout",
     "output_type": "stream",
     "text": [
      "Epoch 37: loss = 43.50157410035174\n"
     ]
    },
    {
     "name": "stderr",
     "output_type": "stream",
     "text": [
      " 78%|███████████████████████████████████████████████████████████████▉                  | 39/50 [02:15<00:38,  3.53s/it]"
     ]
    },
    {
     "name": "stdout",
     "output_type": "stream",
     "text": [
      "Epoch 38: loss = 42.247939066506135\n"
     ]
    },
    {
     "name": "stderr",
     "output_type": "stream",
     "text": [
      " 80%|█████████████████████████████████████████████████████████████████▌                | 40/50 [02:18<00:35,  3.52s/it]"
     ]
    },
    {
     "name": "stdout",
     "output_type": "stream",
     "text": [
      "Epoch 39: loss = 41.07341047558742\n"
     ]
    },
    {
     "name": "stderr",
     "output_type": "stream",
     "text": [
      " 82%|███████████████████████████████████████████████████████████████████▏              | 41/50 [02:22<00:31,  3.51s/it]"
     ]
    },
    {
     "name": "stdout",
     "output_type": "stream",
     "text": [
      "Epoch 40: loss = 39.96463606713913\n"
     ]
    },
    {
     "name": "stderr",
     "output_type": "stream",
     "text": [
      " 84%|████████████████████████████████████████████████████████████████████▉             | 42/50 [02:25<00:28,  3.52s/it]"
     ]
    },
    {
     "name": "stdout",
     "output_type": "stream",
     "text": [
      "Epoch 41: loss = 38.915193159406456\n"
     ]
    },
    {
     "name": "stderr",
     "output_type": "stream",
     "text": [
      " 86%|██████████████████████████████████████████████████████████████████████▌           | 43/50 [02:29<00:24,  3.51s/it]"
     ]
    },
    {
     "name": "stdout",
     "output_type": "stream",
     "text": [
      "Epoch 42: loss = 37.91654958247047\n"
     ]
    },
    {
     "name": "stderr",
     "output_type": "stream",
     "text": [
      " 88%|████████████████████████████████████████████████████████████████████████▏         | 44/50 [02:32<00:21,  3.51s/it]"
     ]
    },
    {
     "name": "stdout",
     "output_type": "stream",
     "text": [
      "Epoch 43: loss = 36.966020939030926\n"
     ]
    },
    {
     "name": "stderr",
     "output_type": "stream",
     "text": [
      " 90%|█████████████████████████████████████████████████████████████████████████▊        | 45/50 [02:36<00:17,  3.52s/it]"
     ]
    },
    {
     "name": "stdout",
     "output_type": "stream",
     "text": [
      "Epoch 44: loss = 36.081807552991314\n"
     ]
    },
    {
     "name": "stderr",
     "output_type": "stream",
     "text": [
      " 92%|███████████████████████████████████████████████████████████████████████████▍      | 46/50 [02:39<00:14,  3.51s/it]"
     ]
    },
    {
     "name": "stdout",
     "output_type": "stream",
     "text": [
      "Epoch 45: loss = 35.210645702852766\n"
     ]
    },
    {
     "name": "stderr",
     "output_type": "stream",
     "text": [
      " 94%|█████████████████████████████████████████████████████████████████████████████     | 47/50 [02:43<00:10,  3.52s/it]"
     ]
    },
    {
     "name": "stdout",
     "output_type": "stream",
     "text": [
      "Epoch 46: loss = 34.4003160272037\n"
     ]
    },
    {
     "name": "stderr",
     "output_type": "stream",
     "text": [
      " 96%|██████████████████████████████████████████████████████████████████████████████▋   | 48/50 [02:46<00:07,  3.51s/it]"
     ]
    },
    {
     "name": "stdout",
     "output_type": "stream",
     "text": [
      "Epoch 47: loss = 33.61998963153888\n"
     ]
    },
    {
     "name": "stderr",
     "output_type": "stream",
     "text": [
      " 98%|████████████████████████████████████████████████████████████████████████████████▎ | 49/50 [02:50<00:03,  3.51s/it]"
     ]
    },
    {
     "name": "stdout",
     "output_type": "stream",
     "text": [
      "Epoch 48: loss = 32.88045614265761\n"
     ]
    },
    {
     "name": "stderr",
     "output_type": "stream",
     "text": [
      "100%|██████████████████████████████████████████████████████████████████████████████████| 50/50 [02:53<00:00,  3.48s/it]"
     ]
    },
    {
     "name": "stdout",
     "output_type": "stream",
     "text": [
      "Epoch 49: loss = 32.1688981010407\n",
      "glove_emb_cfg2_deeptlf9_gender: GLOVE EMB CALCULATED\n"
     ]
    },
    {
     "name": "stderr",
     "output_type": "stream",
     "text": [
      "\n"
     ]
    }
   ],
   "source": [
    "for exp in experiments:\n",
    "    print(exp['name'])\n",
    "    data = copy.deepcopy(source_data)\n",
    "    disc = exp['disc']\n",
    "    if disc is not None:\n",
    "        if \"ST\" not in exp['name']:\n",
    "            disc.fit(data)\n",
    "            data = disc.transform(data, to_embeds=False)\n",
    "        else:\n",
    "            disc.fit(data.sample(int(1e+5), random_state=42).merge(targets, on=df_params['id_col'], how='left'))\n",
    "            data = disc.transform(data, to_embeds=False)\n",
    "        print(f\"{exp['name']}: DATA DISCRETIZED\")\n",
    "        \n",
    "        embedded_feats = df_params['numeric_cols'] + df_params['cat_cols'] + [df_params[\"date_col\"]]\n",
    "    else:\n",
    "        embedded_feats = df_params['cat_cols'] + [df_params[\"date_col\"]]\n",
    "        \n",
    "    print(embedded_feats)\n",
    "    glove_embedding = GloveEmbedding(\n",
    "            feature_names=embedded_feats,\n",
    "            calculate_cooccur=True,\n",
    "            embedding_folder=f'../glove_embeddings/{exp[\"name\"]}',\n",
    "            glove_params=exp['glove_config']\n",
    "        )\n",
    "    glove_embedding.fit(data)\n",
    "    print(f\"{exp['name']}: GLOVE EMB CALCULATED\")"
   ]
  },
  {
   "cell_type": "code",
   "execution_count": 15,
   "id": "5587d641-bf72-4d7a-8583-5ee3625a87d3",
   "metadata": {},
   "outputs": [],
   "source": [
    "glove_embedding.load()"
   ]
  },
  {
   "cell_type": "code",
   "execution_count": 9,
   "id": "31a954bd-82a2-449c-a0bb-688d27ce9b86",
   "metadata": {},
   "outputs": [],
   "source": [
    "data = glove_embedding.tokenize_data(data)"
   ]
  },
  {
   "cell_type": "code",
   "execution_count": 4,
   "id": "c1942d47-35b8-47e9-8f15-8df58598f5c7",
   "metadata": {},
   "outputs": [],
   "source": [
    "EMBED_SIZE = 16\n",
    "\n",
    "df_params = {'numeric_cols': ['amount'],\n",
    "             'cat_cols': ['mcc_code', 'tr_type'],\n",
    "             'cat_unique': [184, 77, 457],\n",
    "             'date_col': 'tr_datetime',\n",
    "             'id_col': 'client_id'\n",
    "    }\n",
    "\n",
    "disc_quant30 = KDiscretizer(\n",
    "    f_names = df_params['numeric_cols'],\n",
    "    k_bins = 30,\n",
    "    d_type = 'quantile',\n",
    "    emb_sz = EMBED_SIZE\n",
    ")\n",
    "\n",
    "disc_quant100 = KDiscretizer(\n",
    "    f_names = df_params['numeric_cols'],\n",
    "    k_bins = 100,\n",
    "    d_type = 'quantile'\n",
    ")\n",
    "\n",
    "disc_st20 = SingleTreeDiscretizer(\n",
    "    f_names = df_params['numeric_cols'], \n",
    "    target_name = TARGET_NAME, \n",
    "    target_type = 'classification', \n",
    "    k_bins = [20],\n",
    ")\n",
    "\n",
    "disc_st30 = SingleTreeDiscretizer(\n",
    "    f_names = df_params['numeric_cols'], \n",
    "    target_name = TARGET_NAME, \n",
    "    target_type = 'classification', \n",
    "    k_bins = [30],\n",
    "    emb_sz = EMBED_SIZE\n",
    ")\n",
    "\n",
    "\n",
    "\n",
    "deeptlf_params6_ne = DeepTLFDisc({\"n_est\" : 6,\n",
    "                  \"min_freq\" : 2,\n",
    "                  \"features\" : df_params['numeric_cols'] + df_params['cat_cols'],\n",
    "                  \"features_to_split\" : df_params['numeric_cols'],\n",
    "                  \"emb_size\" : EMBED_SIZE})\n",
    "\n",
    "deeptlf_params9 = DeepTLFDisc({\"n_est\" : 9,\n",
    "                  \"min_freq\" : 2,\n",
    "                  \"features\" : df_params['numeric_cols'] + df_params['cat_cols'],\n",
    "                  \"features_to_split\" : df_params['numeric_cols'],\n",
    "                  })\n",
    "\n",
    "\n",
    "experiments = [\n",
    "     {'name' : 'st_num_emb_dist_common_emb_sum', \n",
    "     'agg_type' : 'sum', \n",
    "     'disc' : copy.deepcopy(disc_st30),\n",
    "     'nemb' : True\n",
    "    },\n",
    "    {'name' : 'quant_num_emb_dist_common_emb_cat', \n",
    "     'agg_type' : 'cat', \n",
    "     'disc' : copy.deepcopy(disc_quant30),\n",
    "     'nemb' : True\n",
    "    },\n",
    "    {'name' : 'st_num_emb_dist_common_emb_mean', \n",
    "     'agg_type' : 'mean', \n",
    "     'disc' : copy.deepcopy(disc_st30),\n",
    "     'nemb' : True\n",
    "    },\n",
    "    {'name' : 'quant_100_dist_common_emb_cat', \n",
    "     'agg_type' : 'cat', \n",
    "     'disc' : copy.deepcopy(disc_quant100),\n",
    "     'nemb' : False\n",
    "    },\n",
    "    {'name' : 'quant_100_dist_common_emb_sum', \n",
    "     'agg_type' : 'sum', \n",
    "     'disc' : copy.deepcopy(disc_quant100),\n",
    "     'nemb' : False\n",
    "    },\n",
    "    {'name' : 'quant_100_dist_common_emb_mean', \n",
    "     'agg_type' : 'mean', \n",
    "     'disc' : copy.deepcopy(disc_quant100),\n",
    "     'nemb' : False\n",
    "    },\n",
    "    {'name' : 'st_20_dist_common_emb_cat', \n",
    "     'agg_type' : 'cat', \n",
    "     'disc' : copy.deepcopy(disc_st20),\n",
    "     'nemb' : False\n",
    "    },\n",
    "    {'name' : 'st_20_dist_common_emb_sum', \n",
    "     'agg_type' : 'sum', \n",
    "     'disc' : copy.deepcopy(disc_st20),\n",
    "     'nemb' : False\n",
    "    },\n",
    "    {'name' : 'st_20_dist_common_emb_mean', \n",
    "     'agg_type' : 'mean', \n",
    "     'disc' : copy.deepcopy(disc_st20),\n",
    "     'nemb' : False\n",
    "    },\n",
    "     {'name' : 'deeptlf9_disc_common_emb_cat',\n",
    "     'agg_type' : 'cat',\n",
    "     'disc' : copy.deepcopy(deeptlf_params9),\n",
    "     'nemb' : False\n",
    "    },\n",
    "    {'name' : 'deeptlf9_disc_common_emb_sum',\n",
    "     'agg_type' : 'sum',\n",
    "     'disc' : copy.deepcopy(deeptlf_params9),\n",
    "     'nemb' : False\n",
    "    },\n",
    "    {'name' : 'deeptlf9_disc_common_emb_mean',\n",
    "     'agg_type' : 'mean',\n",
    "     'disc' : copy.deepcopy(deeptlf_params9),\n",
    "     'nemb' : False\n",
    "    },\n",
    "    {'name' : 'deeptlf6_num_emb_disc_common_emb_cat',\n",
    "     'agg_type' : 'cat',\n",
    "     'disc' : copy.deepcopy(deeptlf_params6_ne),\n",
    "     'nemb' : True\n",
    "    },\n",
    "    {'name' : 'deeptlf6_num_emb_disc_common_emb_sum',\n",
    "     'agg_type' : 'sum',\n",
    "     'disc' : copy.deepcopy(deeptlf_params6_ne),\n",
    "     'nemb' : True\n",
    "    },\n",
    "    {'name' : 'deeptlf6_num_emb_disc_common_emb_mean',\n",
    "     'agg_type' : 'mean',\n",
    "     'disc' : copy.deepcopy(deeptlf_params6_ne),\n",
    "     'nemb' : True\n",
    "    }\n",
    "]"
   ]
  },
  {
   "cell_type": "code",
   "execution_count": null,
   "id": "18743270-48f5-423f-8887-6ed3ccd3ce04",
   "metadata": {},
   "outputs": [],
   "source": [
    "disc_quant100 = KDiscretizer(\n",
    "    f_names = ['amount_rur'],\n",
    "    k_bins = 100,\n",
    "    d_type = 'quantile'\n",
    ")\n",
    "\n",
    "deeptlf_params9 = DeepTLFDisc({\"n_est\" : 9,\n",
    "                  \"min_freq\" : 2,\n",
    "                  \"features\" : df_params['numeric_cols'] + df_params['cat_cols'],\n",
    "                  \"features_to_split\" : df_params['numeric_cols'],\n",
    "                  })\n",
    "\n",
    "experiments = [\n",
    "    {\n",
    "     'name' : 'trx_tran_orig_no_disc',\n",
    "     'algo' : 'orig',\n",
    "     'agg_type' : None,\n",
    "     'nsep' : False,\n",
    "    },\n",
    "    {\n",
    "     'name' : 'trx_tran_orig_deeptlf9',\n",
    "     'algo' : 'orig',\n",
    "     'agg_type' : None,\n",
    "     'nsep' : False,\n",
    "     'disc' : copy.deepcopy(deeptlf_params9),\n",
    "     'nemb' : False\n",
    "    },\n",
    "    {\n",
    "     'name' : 'trx_tran_classic_deeptlf9_cat',\n",
    "     'algo' : 'classic',\n",
    "     'agg_type' : 'cat',\n",
    "     'nsep' : False,\n",
    "     'disc' : copy.deepcopy(deeptlf_params9),\n",
    "     'nemb' : False\n",
    "    },\n",
    "    {\n",
    "     'name' : 'trx_tran_classic_quant100_sum',\n",
    "     'algo' : 'classic',\n",
    "     'agg_type' : 'sum',\n",
    "     'nsep' : False,\n",
    "     'disc' : copy.deepcopy(disc_quant100),\n",
    "     'nemb' : False\n",
    "    },\n",
    "    {\n",
    "     'name' : 'trx_tran_orig_quant100',\n",
    "     'algo' : 'orig',\n",
    "     'agg_type' : None,\n",
    "     'nsep' : False,\n",
    "     'disc' : copy.deepcopy(disc_quant100),\n",
    "     'nemb' : False\n",
    "    },\n",
    "    {\n",
    "     'name' : 'trx_tran_classic_quant100_cat',\n",
    "     'algo' : 'classic',\n",
    "     'agg_type' : 'cat',\n",
    "     'nsep' : False,\n",
    "     'disc' : copy.deepcopy(disc_quant100),\n",
    "     'nemb' : False\n",
    "    },\n",
    "      {\n",
    "     'name' : 'trx_tran_classic_deeptlf9_sum',\n",
    "     'algo' : 'classic',\n",
    "     'agg_type' : 'sum',\n",
    "     'nsep' : False,\n",
    "     'disc' : copy.deepcopy(deeptlf_params9),\n",
    "     'nemb' : False\n",
    "    },\n",
    "    #  {\n",
    "    #  'name' : 'trx_tran_classic_deeptlf9_mean',\n",
    "    #  'algo' : 'classic',\n",
    "    #  'agg_type' : 'mean',\n",
    "    #  'nsep' : False,\n",
    "    #  'disc' : copy.deepcopy(deeptlf_params9),\n",
    "    #  'nemb' : False\n",
    "    # },\n",
    "    # {\n",
    "    #  'name' : 'trx_tran_classic_quant100_mean',\n",
    "    #  'algo' : 'classic',\n",
    "    #  'agg_type' : 'mean',\n",
    "    #  'nsep' : False,\n",
    "    #  'disc' : copy.deepcopy(disc_quant100),\n",
    "    #  'nemb' : False\n",
    "    # },\n",
    "    {\n",
    "     'name' : 'trx_tran_classic_no_disc_cat',\n",
    "     'algo' : 'classic',\n",
    "     'agg_type' : 'cat',\n",
    "     'nsep' : True,\n",
    "    }\n",
    "]"
   ]
  },
  {
   "cell_type": "markdown",
   "id": "a9daf125-3919-46b2-9e3e-249adcf139d9",
   "metadata": {},
   "source": [
    "### Experiments with sole numeric features discretization and common embeds"
   ]
  },
  {
   "cell_type": "code",
   "execution_count": 5,
   "id": "74f4f38c-23e7-4c55-8f20-c57ac430e3c6",
   "metadata": {},
   "outputs": [],
   "source": [
    "EMBED_SIZE = 16\n",
    "HIDDEN_SIZE = 256\n",
    "\n",
    "def get_basic_model_encoder(df_params):\n",
    "    embeddings=dict()\n",
    "    for i, f in enumerate(df_params[\"cat_cols\"] + [df_params[\"date_col\"]]):\n",
    "        embeddings[f] = {'in' : df_params[\"cat_unique\"][i], 'out' : EMBED_SIZE}\n",
    "    \n",
    "    trx_encoder_params = dict(\n",
    "        embeddings_noise=0.003,\n",
    "        numeric_values=dict([(fe, 'identity') for fe in df_params['numeric_cols']]),\n",
    "        embeddings=embeddings\n",
    "    )\n",
    "    \n",
    "    seq_encoder = RnnSeqEncoder(\n",
    "        trx_encoder=TrxEncoder(**trx_encoder_params),\n",
    "        hidden_size=256,\n",
    "        type='gru',\n",
    "    )\n",
    "    \n",
    "    return seq_encoder\n",
    "\n",
    "def get_cat_encoder(df_params, agg_type, num_emb_flag=False):\n",
    "    embeddings=dict()\n",
    "    for i, f in enumerate(df_params[\"cat_cols\"] + [df_params[\"date_col\"]]):\n",
    "        embeddings[f] = {'in' : df_params[\"cat_unique\"][i], 'out' : EMBED_SIZE}\n",
    "\n",
    "    trx_encoder_params = dict(\n",
    "        embeddings=embeddings,\n",
    "        embeddings_noise=0.003,\n",
    "        agg_type=agg_type,\n",
    "        numeric_separate=num_emb_flag,\n",
    "        numeric_features=df_params['numeric_cols']\n",
    "    )\n",
    "    \n",
    "    seq_encoder = RnnSeqEncoder(\n",
    "        trx_encoder=TrxEncoderCat(**trx_encoder_params),\n",
    "        hidden_size=HIDDEN_SIZE,\n",
    "        type='gru',\n",
    "    )\n",
    "    return seq_encoder\n",
    "\n",
    "def get_trans_encoder(df_params, agg_type, algo, numeric_separate=False):\n",
    "    embeddings=dict()\n",
    "\n",
    "    trx_encoder_params = dict(\n",
    "        feature_names=df_params['cat_cols'] + [df_params[\"date_col\"]], \n",
    "        in_emb_sizes=df_params[\"cat_unique\"],\n",
    "        out_emb_size=EMBED_SIZE,\n",
    "        agg_type=agg_type,\n",
    "        numeric_separate=numeric_separate,\n",
    "        numeric_features=df_params['numeric_cols']\n",
    "    )\n",
    "    \n",
    "    seq_encoder = RnnSeqEncoder(\n",
    "        trx_encoder=TrxEncoderTrans(**trx_encoder_params),\n",
    "        hidden_size=HIDDEN_SIZE,\n",
    "        type='gru',\n",
    "    )\n",
    "    return seq_encoder\n",
    "\n",
    "def get_glove_encoder(df_params, exp, glove_embedding):\n",
    "    seq_encoder = RnnSeqEncoder(\n",
    "        trx_encoder=TrxEncoderGlove(glove_embedding, agg_type=exp['agg_type'], numeric_separate=exp['nsep']),\n",
    "        hidden_size=256,\n",
    "        type='gru',\n",
    "    )\n",
    "    return seq_encoder"
   ]
  },
  {
   "cell_type": "code",
   "execution_count": 6,
   "id": "de9913c8-98cc-438c-ad6e-801228efc331",
   "metadata": {},
   "outputs": [],
   "source": [
    "experiments_glove = []\n",
    "for e in experiments:\n",
    "    for agg_t in ['cat', \"sum\", 'mean']:\n",
    "        if agg_t != 'cat' and e['disc'] is None:\n",
    "            continue\n",
    "        experiments_glove.append(copy.deepcopy(e))\n",
    "        experiments_glove[-1]['agg_type'] = agg_t\n",
    "        experiments_glove[-1]['nsep'] = (experiments_glove[-1]['disc'] is None)\n",
    "        experiments_glove[-1]['name'] += f'_{agg_t}'"
   ]
  },
  {
   "cell_type": "code",
   "execution_count": 7,
   "id": "4b3f8d52-0063-4437-a40d-6d16b68d4695",
   "metadata": {
    "scrolled": true
   },
   "outputs": [
    {
     "data": {
      "text/plain": [
       "[{'name': 'glove_emb_cfg2_no_num_gender_cat',\n",
       "  'glove_config': {'alpha': 0.75,\n",
       "   'x_max': 15000,\n",
       "   'embedding_size': 16,\n",
       "   'num_epochs_train': 50},\n",
       "  'disc': None,\n",
       "  'agg_type': 'cat',\n",
       "  'nsep': True},\n",
       " {'name': 'glove_emb_cfg1_ST20_gender_cat',\n",
       "  'glove_config': {'alpha': 0.75,\n",
       "   'x_max': 100,\n",
       "   'embedding_size': 16,\n",
       "   'num_epochs_train': 50},\n",
       "  'disc': <ptls.preprocessing.baseline_discretizer.single_tree_discretizer.SingleTreeDiscretizer at 0x1b778062c20>,\n",
       "  'agg_type': 'cat',\n",
       "  'nsep': False},\n",
       " {'name': 'glove_emb_cfg1_ST20_gender_sum',\n",
       "  'glove_config': {'alpha': 0.75,\n",
       "   'x_max': 100,\n",
       "   'embedding_size': 16,\n",
       "   'num_epochs_train': 50},\n",
       "  'disc': <ptls.preprocessing.baseline_discretizer.single_tree_discretizer.SingleTreeDiscretizer at 0x1b778061a80>,\n",
       "  'agg_type': 'sum',\n",
       "  'nsep': False},\n",
       " {'name': 'glove_emb_cfg1_ST20_gender_mean',\n",
       "  'glove_config': {'alpha': 0.75,\n",
       "   'x_max': 100,\n",
       "   'embedding_size': 16,\n",
       "   'num_epochs_train': 50},\n",
       "  'disc': <ptls.preprocessing.baseline_discretizer.single_tree_discretizer.SingleTreeDiscretizer at 0x1b778062ce0>,\n",
       "  'agg_type': 'mean',\n",
       "  'nsep': False},\n",
       " {'name': 'glove_emb_cfg2_quant100_gender_cat',\n",
       "  'glove_config': {'alpha': 0.75,\n",
       "   'x_max': 15000,\n",
       "   'embedding_size': 16,\n",
       "   'num_epochs_train': 50},\n",
       "  'disc': <ptls.preprocessing.baseline_discretizer.k_discretizer.KDiscretizer at 0x1b7780631f0>,\n",
       "  'agg_type': 'cat',\n",
       "  'nsep': False},\n",
       " {'name': 'glove_emb_cfg2_quant100_gender_sum',\n",
       "  'glove_config': {'alpha': 0.75,\n",
       "   'x_max': 15000,\n",
       "   'embedding_size': 16,\n",
       "   'num_epochs_train': 50},\n",
       "  'disc': <ptls.preprocessing.baseline_discretizer.k_discretizer.KDiscretizer at 0x1b7780631c0>,\n",
       "  'agg_type': 'sum',\n",
       "  'nsep': False},\n",
       " {'name': 'glove_emb_cfg2_quant100_gender_mean',\n",
       "  'glove_config': {'alpha': 0.75,\n",
       "   'x_max': 15000,\n",
       "   'embedding_size': 16,\n",
       "   'num_epochs_train': 50},\n",
       "  'disc': <ptls.preprocessing.baseline_discretizer.k_discretizer.KDiscretizer at 0x1b7780602e0>,\n",
       "  'agg_type': 'mean',\n",
       "  'nsep': False},\n",
       " {'name': 'glove_emb_cfg2_deeptlf9_gender_cat',\n",
       "  'glove_config': {'alpha': 0.75,\n",
       "   'x_max': 15000,\n",
       "   'embedding_size': 16,\n",
       "   'num_epochs_train': 50},\n",
       "  'disc': <ptls.preprocessing.deeptlf.deeptlf_discretizer.DeepTLFDisc at 0x1b778063e80>,\n",
       "  'agg_type': 'cat',\n",
       "  'nsep': False},\n",
       " {'name': 'glove_emb_cfg2_deeptlf9_gender_sum',\n",
       "  'glove_config': {'alpha': 0.75,\n",
       "   'x_max': 15000,\n",
       "   'embedding_size': 16,\n",
       "   'num_epochs_train': 50},\n",
       "  'disc': <ptls.preprocessing.deeptlf.deeptlf_discretizer.DeepTLFDisc at 0x1b778060ca0>,\n",
       "  'agg_type': 'sum',\n",
       "  'nsep': False},\n",
       " {'name': 'glove_emb_cfg2_deeptlf9_gender_mean',\n",
       "  'glove_config': {'alpha': 0.75,\n",
       "   'x_max': 15000,\n",
       "   'embedding_size': 16,\n",
       "   'num_epochs_train': 50},\n",
       "  'disc': <ptls.preprocessing.deeptlf.deeptlf_discretizer.DeepTLFDisc at 0x1b778062e00>,\n",
       "  'agg_type': 'mean',\n",
       "  'nsep': False}]"
      ]
     },
     "execution_count": 7,
     "metadata": {},
     "output_type": "execute_result"
    }
   ],
   "source": [
    "experiments_glove"
   ]
  },
  {
   "cell_type": "code",
   "execution_count": 11,
   "id": "c71cf856-2ce2-4042-b987-a02012c6fce9",
   "metadata": {
    "scrolled": true
   },
   "outputs": [
    {
     "name": "stdout",
     "output_type": "stream",
     "text": [
      "basic_model_emb_16_gender: DATA PREPROCESSED AND SAVED\n"
     ]
    },
    {
     "name": "stderr",
     "output_type": "stream",
     "text": [
      "GPU available: True (cuda), used: True\n",
      "TPU available: False, using: 0 TPU cores\n",
      "IPU available: False, using: 0 IPUs\n",
      "HPU available: False, using: 0 HPUs\n",
      "C:\\Users\\peter\\anaconda3\\envs\\cv\\lib\\site-packages\\pytorch_lightning\\callbacks\\model_checkpoint.py:613: UserWarning: Checkpoint directory C:\\Users\\peter\\anaconda3\\envs\\cv\\Scripts\\ptls-glove\\checkpoints exists and is not empty.\n",
      "  rank_zero_warn(f\"Checkpoint directory {dirpath} exists and is not empty.\")\n",
      "LOCAL_RANK: 0 - CUDA_VISIBLE_DEVICES: [0]\n"
     ]
    },
    {
     "name": "stdout",
     "output_type": "stream",
     "text": [
      "basic_model_emb_16_gender: TRAIN STARTS\n"
     ]
    },
    {
     "data": {
      "application/vnd.jupyter.widget-view+json": {
       "model_id": "",
       "version_major": 2,
       "version_minor": 0
      },
      "text/plain": [
       "Sanity Checking: 0it [00:00, ?it/s]"
      ]
     },
     "metadata": {},
     "output_type": "display_data"
    },
    {
     "name": "stderr",
     "output_type": "stream",
     "text": [
      "C:\\Users\\peter\\anaconda3\\envs\\cv\\lib\\site-packages\\pytorch_lightning\\trainer\\connectors\\data_connector.py:224: PossibleUserWarning: The dataloader, val_dataloader 0, does not have many workers which may be a bottleneck. Consider increasing the value of the `num_workers` argument` (try 12 which is the number of cpus on this machine) in the `DataLoader` init to improve performance.\n",
      "  rank_zero_warn(\n",
      "C:\\Users\\peter\\anaconda3\\envs\\cv\\lib\\site-packages\\pytorch_lightning\\trainer\\connectors\\data_connector.py:224: PossibleUserWarning: The dataloader, train_dataloader, does not have many workers which may be a bottleneck. Consider increasing the value of the `num_workers` argument` (try 12 which is the number of cpus on this machine) in the `DataLoader` init to improve performance.\n",
      "  rank_zero_warn(\n"
     ]
    },
    {
     "data": {
      "application/vnd.jupyter.widget-view+json": {
       "model_id": "ea6cd9e30b65480f9881625c15e94679",
       "version_major": 2,
       "version_minor": 0
      },
      "text/plain": [
       "Training: 0it [00:00, ?it/s]"
      ]
     },
     "metadata": {},
     "output_type": "display_data"
    },
    {
     "data": {
      "application/vnd.jupyter.widget-view+json": {
       "model_id": "",
       "version_major": 2,
       "version_minor": 0
      },
      "text/plain": [
       "Validation: 0it [00:00, ?it/s]"
      ]
     },
     "metadata": {},
     "output_type": "display_data"
    },
    {
     "data": {
      "application/vnd.jupyter.widget-view+json": {
       "model_id": "",
       "version_major": 2,
       "version_minor": 0
      },
      "text/plain": [
       "Validation: 0it [00:00, ?it/s]"
      ]
     },
     "metadata": {},
     "output_type": "display_data"
    },
    {
     "data": {
      "application/vnd.jupyter.widget-view+json": {
       "model_id": "",
       "version_major": 2,
       "version_minor": 0
      },
      "text/plain": [
       "Validation: 0it [00:00, ?it/s]"
      ]
     },
     "metadata": {},
     "output_type": "display_data"
    },
    {
     "data": {
      "application/vnd.jupyter.widget-view+json": {
       "model_id": "",
       "version_major": 2,
       "version_minor": 0
      },
      "text/plain": [
       "Validation: 0it [00:00, ?it/s]"
      ]
     },
     "metadata": {},
     "output_type": "display_data"
    },
    {
     "data": {
      "application/vnd.jupyter.widget-view+json": {
       "model_id": "",
       "version_major": 2,
       "version_minor": 0
      },
      "text/plain": [
       "Validation: 0it [00:00, ?it/s]"
      ]
     },
     "metadata": {},
     "output_type": "display_data"
    },
    {
     "data": {
      "application/vnd.jupyter.widget-view+json": {
       "model_id": "",
       "version_major": 2,
       "version_minor": 0
      },
      "text/plain": [
       "Validation: 0it [00:00, ?it/s]"
      ]
     },
     "metadata": {},
     "output_type": "display_data"
    },
    {
     "data": {
      "application/vnd.jupyter.widget-view+json": {
       "model_id": "",
       "version_major": 2,
       "version_minor": 0
      },
      "text/plain": [
       "Validation: 0it [00:00, ?it/s]"
      ]
     },
     "metadata": {},
     "output_type": "display_data"
    },
    {
     "data": {
      "application/vnd.jupyter.widget-view+json": {
       "model_id": "",
       "version_major": 2,
       "version_minor": 0
      },
      "text/plain": [
       "Validation: 0it [00:00, ?it/s]"
      ]
     },
     "metadata": {},
     "output_type": "display_data"
    },
    {
     "data": {
      "application/vnd.jupyter.widget-view+json": {
       "model_id": "",
       "version_major": 2,
       "version_minor": 0
      },
      "text/plain": [
       "Validation: 0it [00:00, ?it/s]"
      ]
     },
     "metadata": {},
     "output_type": "display_data"
    },
    {
     "data": {
      "application/vnd.jupyter.widget-view+json": {
       "model_id": "",
       "version_major": 2,
       "version_minor": 0
      },
      "text/plain": [
       "Validation: 0it [00:00, ?it/s]"
      ]
     },
     "metadata": {},
     "output_type": "display_data"
    },
    {
     "data": {
      "application/vnd.jupyter.widget-view+json": {
       "model_id": "",
       "version_major": 2,
       "version_minor": 0
      },
      "text/plain": [
       "Validation: 0it [00:00, ?it/s]"
      ]
     },
     "metadata": {},
     "output_type": "display_data"
    },
    {
     "data": {
      "application/vnd.jupyter.widget-view+json": {
       "model_id": "",
       "version_major": 2,
       "version_minor": 0
      },
      "text/plain": [
       "Validation: 0it [00:00, ?it/s]"
      ]
     },
     "metadata": {},
     "output_type": "display_data"
    },
    {
     "name": "stdout",
     "output_type": "stream",
     "text": [
      "{'loss': tensor(131.8917), 'seq_len': tensor(101.8275), 'valid/recall_top_k': tensor(0.8515)}\n",
      "basic_model_emb_16_gender: TRAIN ENDS, MODEL SAVED\n"
     ]
    }
   ],
   "source": [
    "for exp in experiments:\n",
    "    df_params = {'numeric_cols': ['amount'],\n",
    "             'cat_cols': ['mcc_code', 'tr_type'],\n",
    "             'cat_unique': [184, 77, 457],\n",
    "             'date_col': 'tr_datetime',\n",
    "             'id_col': 'client_id'\n",
    "    }\n",
    "    data = copy.deepcopy(source_data)\n",
    "    if 'disc' in exp:\n",
    "        disc = exp['disc']\n",
    "        if exp['name'][:2] != \"st\" and ('ST' not in exp['name']) and (disc is not None):\n",
    "            disc.fit(data)\n",
    "            data = disc.transform(data, to_embeds=exp['nemb'] if 'nemb' in exp else False)\n",
    "        elif (disc is not None):\n",
    "            disc.fit(data.sample(int(1e+5), random_state=42).merge(targets, on=df_params['id_col'], how='left'))\n",
    "            data = disc.transform(data, to_embeds=exp['nemb'] if 'nemb' in exp else False)\n",
    "        print(f\"{exp['name']}: DATA DISCRETIZED\")\n",
    "\n",
    "    if 'nemb' in exp and not exp['nemb']:\n",
    "        df_params['cat_cols'] =  df_params['numeric_cols'] + df_params['cat_cols']\n",
    "        df_params[\"cat_unique\"] = (exp['disc'].k_bins if (type(exp['disc'].k_bins) is list) else [exp['disc'].k_bins] * len(df_params['numeric_cols'])) + df_params[\"cat_unique\"]\n",
    "        df_params['numeric_cols'] = []\n",
    "    else:\n",
    "        nn = []\n",
    "        for fn in df_params['numeric_cols']:\n",
    "            nn += [fn + '_val', fn + '_pos']\n",
    "    \n",
    "    if 'glove_config' in exp:\n",
    "        if not exp['nsep']:\n",
    "            embedded_feats = df_params['numeric_cols'] + df_params['cat_cols'] + [df_params[\"date_col\"]]\n",
    "        else:\n",
    "            embedded_feats = df_params['cat_cols'] + [df_params[\"date_col\"]]\n",
    "        folder_nm = f'../glove_embeddings/{exp[\"name\"]}'[:-4] if exp['agg_type'] != 'mean' else f'../glove_embeddings/{exp[\"name\"]}'[:-5]\n",
    "        glove_embedding = GloveEmbedding(\n",
    "            feature_names=embedded_feats,\n",
    "            calculate_cooccur=False,\n",
    "            embedding_folder=folder_nm,\n",
    "            glove_params=exp['glove_config']\n",
    "        )\n",
    "        glove_embedding.load()\n",
    "        data = glove_embedding.tokenize_data(data)\n",
    "\n",
    "    preprocessor = PandasDataPreprocessor(\n",
    "        col_id=df_params['id_col'],\n",
    "        col_event_time=df_params['date_col'],\n",
    "        event_time_transformation='none',\n",
    "        category_transformation = 'none' if ('glove_config' in exp) else 'frequency',\n",
    "        cols_category=df_params['cat_cols'],\n",
    "        cols_numerical= nn if ('nemb' in exp and exp['nemb']) else df_params['numeric_cols'] ,\n",
    "        return_records=True,\n",
    "    )\n",
    "#+ (df_params['numeric_cols'] if ('glove_config' in exp) else [])\n",
    "#if ('nsep' in exp and exp['nsep']) else []    \n",
    "    dataset = preprocessor.fit_transform(data)\n",
    "\n",
    "    dataset = sorted(dataset, key=lambda x: x[df_params['id_col']])\n",
    "\n",
    "    with open(f\"../coles_prep_datasets/{exp['name']}_dataset_gender.pkl\", \"wb\") as fl:\n",
    "        pickle.dump(dataset , fl)\n",
    "\n",
    "    # with open(f\"../coles_prep_datasets/{exp['name']}_dataset.pkl\", \"rb\") as fl:\n",
    "    #     dataset = pickle.load(fl)\n",
    "    \n",
    "    train, test = train_test_split(dataset, test_size=0.2, random_state=42)\n",
    "\n",
    "    train, val = train_test_split(dataset, test_size=0.1, random_state=42)\n",
    "\n",
    "\n",
    "    print(f\"{exp['name']}: DATA PREPROCESSED AND SAVED\")\n",
    "\n",
    "    del dataset, data\n",
    "\n",
    "    train_dl = PtlsDataModule(\n",
    "        train_data = ColesDataset(\n",
    "                MemoryMapDataset(\n",
    "                    data=train,\n",
    "                    i_filters=[\n",
    "                        SeqLenFilter(min_seq_len=25),\n",
    "                    ],\n",
    "                ),\n",
    "                splitter=SampleSlices(\n",
    "                    split_count=5,\n",
    "                    cnt_min=25,\n",
    "                    cnt_max=200,\n",
    "                ),\n",
    "            ),\n",
    "        train_num_workers=1,\n",
    "        train_batch_size=256,\n",
    "        valid_data = ColesDataset(\n",
    "                MemoryMapDataset(\n",
    "                    data=val,\n",
    "                    i_filters=[\n",
    "                        SeqLenFilter(min_seq_len=25),\n",
    "                    ],\n",
    "                ),\n",
    "                splitter=SampleSlices(\n",
    "                    split_count=5,\n",
    "                    cnt_min=25,\n",
    "                    cnt_max=200,\n",
    "                ),\n",
    "            ),\n",
    "        valid_num_workers=1,\n",
    "        valid_batch_size=256,\n",
    "    )\n",
    "\n",
    "    #seq_encoder = get_cat_encoder(df_params, agg_type=exp['agg_type'], num_emb_flag=exp['nemb'])\n",
    "    #seq_encoder = get_trans_encoder(df_params, agg_type=exp['agg_type'], algo=exp['algo'], numeric_separate=exp['nsep'])\n",
    "    #seq_encoder = get_glove_encoder(df_params, exp, glove_embedding)\n",
    "    seq_encoder = get_basic_model_encoder(df_params)\n",
    "\n",
    "    model = CoLESModule(\n",
    "        seq_encoder=seq_encoder,\n",
    "        optimizer_partial=partial(torch.optim.Adam, lr=0.001),\n",
    "        lr_scheduler_partial=partial(torch.optim.lr_scheduler.StepLR, step_size=30, gamma=0.9),\n",
    "    )\n",
    "\n",
    "    early_stopping = EarlyStopping(f'valid/{model.metric_name}', mode='max', patience=2, min_delta=0.01)\n",
    "    \n",
    "    trainer = pl.Trainer(\n",
    "        max_epochs=25,\n",
    "        accelerator=\"gpu\",\n",
    "        callbacks = [early_stopping],\n",
    "        enable_progress_bar=True,\n",
    "        enable_model_summary=False,\n",
    "        logger=False\n",
    "    )\n",
    "\n",
    "    print(f\"{exp['name']}: TRAIN STARTS\")\n",
    "\n",
    "    trainer.fit(model, train_dl)\n",
    "    print(trainer.logged_metrics)\n",
    "\n",
    "    torch.save(seq_encoder.state_dict(), f\"../models_coles/{exp['name']}_gender.pt\")\n",
    "\n",
    "    print(f\"{exp['name']}: TRAIN ENDS, MODEL SAVED\")\n",
    "\n",
    "    del train, test"
   ]
  },
  {
   "cell_type": "markdown",
   "id": "78984bee-a8c8-4cf0-8a66-5b0ce866f11d",
   "metadata": {},
   "source": [
    "### Get cosine-dist metric values on train/test datasets"
   ]
  },
  {
   "cell_type": "code",
   "execution_count": 13,
   "id": "579c78d7-19c4-416c-8fe2-1582ddff3cf8",
   "metadata": {
    "scrolled": true
   },
   "outputs": [
    {
     "name": "stdout",
     "output_type": "stream",
     "text": [
      "basic_model_emb_16_gender\n"
     ]
    },
    {
     "name": "stderr",
     "output_type": "stream",
     "text": [
      "GPU available: True (cuda), used: True\n",
      "TPU available: False, using: 0 TPU cores\n",
      "IPU available: False, using: 0 IPUs\n",
      "HPU available: False, using: 0 HPUs\n",
      "LOCAL_RANK: 0 - CUDA_VISIBLE_DEVICES: [0]\n",
      "C:\\Users\\peter\\anaconda3\\envs\\cv\\lib\\site-packages\\pytorch_lightning\\trainer\\connectors\\data_connector.py:224: PossibleUserWarning: The dataloader, predict_dataloader 0, does not have many workers which may be a bottleneck. Consider increasing the value of the `num_workers` argument` (try 12 which is the number of cpus on this machine) in the `DataLoader` init to improve performance.\n",
      "  rank_zero_warn(\n"
     ]
    },
    {
     "data": {
      "application/vnd.jupyter.widget-view+json": {
       "model_id": "dc377b0783484e2fbc27becc54eec625",
       "version_major": 2,
       "version_minor": 0
      },
      "text/plain": [
       "Predicting: 0it [00:00, ?it/s]"
      ]
     },
     "metadata": {},
     "output_type": "display_data"
    },
    {
     "name": "stderr",
     "output_type": "stream",
     "text": [
      "C:\\Users\\peter\\anaconda3\\envs\\cv\\lib\\site-packages\\pytorch_lightning\\loops\\epoch\\prediction_epoch_loop.py:134: UserWarning: predict returned None if it was on purpose, ignore this warning...\n",
      "  self._warning_cache.warn(\"predict returned None if it was on purpose, ignore this warning...\")\n",
      "GPU available: True (cuda), used: True\n",
      "TPU available: False, using: 0 TPU cores\n",
      "IPU available: False, using: 0 IPUs\n",
      "HPU available: False, using: 0 HPUs\n",
      "LOCAL_RANK: 0 - CUDA_VISIBLE_DEVICES: [0]\n"
     ]
    },
    {
     "data": {
      "application/vnd.jupyter.widget-view+json": {
       "model_id": "26b72e7a2ada497ea3023cad1c304753",
       "version_major": 2,
       "version_minor": 0
      },
      "text/plain": [
       "Predicting: 0it [00:00, ?it/s]"
      ]
     },
     "metadata": {},
     "output_type": "display_data"
    },
    {
     "name": "stderr",
     "output_type": "stream",
     "text": [
      "LOCAL_RANK: 0 - CUDA_VISIBLE_DEVICES: [0]\n"
     ]
    },
    {
     "data": {
      "application/vnd.jupyter.widget-view+json": {
       "model_id": "d557143e6ff94642a53b4075c20f60c6",
       "version_major": 2,
       "version_minor": 0
      },
      "text/plain": [
       "Predicting: 0it [00:00, ?it/s]"
      ]
     },
     "metadata": {},
     "output_type": "display_data"
    },
    {
     "data": {
      "application/vnd.jupyter.widget-view+json": {
       "model_id": "9acd0183ba6d4fd6920208bac010c985",
       "version_major": 2,
       "version_minor": 0
      },
      "text/plain": [
       "  0%|          | 0/5 [00:00<?, ?it/s]"
      ]
     },
     "metadata": {},
     "output_type": "display_data"
    },
    {
     "name": "stdout",
     "output_type": "stream",
     "text": [
      "[LightGBM] [Info] Auto-choosing col-wise multi-threading, the overhead of testing was 0.008708 seconds.\n",
      "You can set `force_col_wise=true` to remove the overhead.\n",
      "[LightGBM] [Info] Total Bins 65280\n",
      "[LightGBM] [Info] Number of data points in the train set: 12000, number of used features: 256\n",
      "[LightGBM] [Info] Start training from score -1.161020\n",
      "[LightGBM] [Info] Start training from score -1.394999\n",
      "[LightGBM] [Info] Start training from score -0.823256\n",
      "[LightGBM] [Info] Auto-choosing col-wise multi-threading, the overhead of testing was 0.009308 seconds.\n",
      "You can set `force_col_wise=true` to remove the overhead.\n",
      "[LightGBM] [Info] Total Bins 65280\n",
      "[LightGBM] [Info] Number of data points in the train set: 12000, number of used features: 256\n",
      "[LightGBM] [Info] Start training from score -1.161020\n",
      "[LightGBM] [Info] Start training from score -1.394999\n",
      "[LightGBM] [Info] Start training from score -0.823256\n",
      "[LightGBM] [Info] Auto-choosing col-wise multi-threading, the overhead of testing was 0.009507 seconds.\n",
      "You can set `force_col_wise=true` to remove the overhead.\n",
      "[LightGBM] [Info] Total Bins 65280\n",
      "[LightGBM] [Info] Number of data points in the train set: 12000, number of used features: 256\n",
      "[LightGBM] [Info] Start training from score -1.161020\n",
      "[LightGBM] [Info] Start training from score -1.394999\n",
      "[LightGBM] [Info] Start training from score -0.823256\n",
      "[LightGBM] [Info] Auto-choosing col-wise multi-threading, the overhead of testing was 0.008448 seconds.\n",
      "You can set `force_col_wise=true` to remove the overhead.\n",
      "[LightGBM] [Info] Total Bins 65280\n",
      "[LightGBM] [Info] Number of data points in the train set: 12000, number of used features: 256\n",
      "[LightGBM] [Info] Start training from score -1.161020\n",
      "[LightGBM] [Info] Start training from score -1.394999\n",
      "[LightGBM] [Info] Start training from score -0.823256\n",
      "[LightGBM] [Info] Auto-choosing col-wise multi-threading, the overhead of testing was 0.007867 seconds.\n",
      "You can set `force_col_wise=true` to remove the overhead.\n",
      "[LightGBM] [Info] Total Bins 65280\n",
      "[LightGBM] [Info] Number of data points in the train set: 12000, number of used features: 256\n",
      "[LightGBM] [Info] Start training from score -1.161020\n",
      "[LightGBM] [Info] Start training from score -1.394999\n",
      "[LightGBM] [Info] Start training from score -0.823256\n"
     ]
    },
    {
     "data": {
      "application/vnd.jupyter.widget-view+json": {
       "model_id": "f127afd105e74e3484f9b610b994be73",
       "version_major": 2,
       "version_minor": 0
      },
      "text/plain": [
       "  0%|          | 0/5 [00:00<?, ?it/s]"
      ]
     },
     "metadata": {},
     "output_type": "display_data"
    }
   ],
   "source": [
    "from lightgbm import LGBMClassifier\n",
    "from sklearn.ensemble import RandomForestClassifier\n",
    "res_metrics = []\n",
    "N_TRIALS = 5\n",
    "\n",
    "tasks = {'boosting' : LGBMClassifier(), 'r_forest' : RandomForestClassifier()}\n",
    "\n",
    "def cuda_memory_clear():\n",
    "    import gc\n",
    "    gc.collect()\n",
    "    torch.cuda.empty_cache()\n",
    "\n",
    "def get_train_test_age_bins_scenario(df_params, train_embeds, test_embeds):\n",
    "    data_path = \"../data/age_bins\"\n",
    "    \n",
    "    df_target = pd.read_csv(os.path.join(data_path, 'train_target.csv'))\n",
    "    df_target = df_target.set_index(df_params[\"id_col\"])\n",
    "    df_target.rename(columns={\"bins\": \"target\"}, inplace=True)\n",
    "    \n",
    "    train_df = pd.DataFrame(data=train_embeds, columns=[f'embed_{i}' for i in range(train_embeds.shape[1])])\n",
    "    train_df[df_params[\"id_col\"]] = [x[df_params[\"id_col\"]] for x in train]\n",
    "    train_df = train_df.merge(df_target, how='left', on=df_params[\"id_col\"])\n",
    "    \n",
    "    test_df = pd.DataFrame(data=test_embeds, columns=[f'embed_{i}' for i in range(test_embeds.shape[1])])\n",
    "    test_df[df_params[\"id_col\"]] = [x[df_params[\"id_col\"]] for x in test]\n",
    "    test_df = test_df.merge(df_target, how='left', on=df_params[\"id_col\"])\n",
    "    return train_df, test_df\n",
    "\n",
    "def get_train_test_gender_scenario(df_params, train_embeds, test_embeds):\n",
    "    data_path = \"../data/gender\"\n",
    "\n",
    "    df_target = pd.read_csv(os.path.join('../data/gender', 'gender_train1.csv')).drop(columns=['Unnamed: 0'])\n",
    "    df_target = df_target.set_index(df_params[\"id_col\"])\n",
    "    df_target.rename(columns={\"gender\": \"target\"}, inplace=True)\n",
    "    \n",
    "    train_df = pd.DataFrame(data=train_embeds, columns=[f'embed_{i}' for i in range(train_embeds.shape[1])])\n",
    "    train_df[df_params[\"id_col\"]] = [x[df_params[\"id_col\"]] for x in train]\n",
    "    train_df = train_df.merge(df_target, how='left', on=df_params[\"id_col\"])\n",
    "    \n",
    "    test_df = pd.DataFrame(data=test_embeds, columns=[f'embed_{i}' for i in range(test_embeds.shape[1])])\n",
    "    test_df[df_params[\"id_col\"]] = [x[df_params[\"id_col\"]] for x in test]\n",
    "    test_df = test_df.merge(df_target, how='left', on=df_params[\"id_col\"])\n",
    "    train_df = train_df.fillna(2)\n",
    "    test_df = test_df.fillna(2)\n",
    "    return train_df, test_df\n",
    "\n",
    "for exp in experiments:\n",
    "    print(exp['name'])\n",
    "    data = copy.deepcopy(source_data)\n",
    "    if 'disc' in exp:\n",
    "        if exp['name'][:2] != \"st\" and ('ST' not in exp['name']) and (exp['disc'] is not None):\n",
    "            exp['disc'].fit(data)\n",
    "        elif (exp['disc'] is not None):\n",
    "            exp['disc'].fit(data.sample(int(1e+5), random_state=42).merge(targets, on=df_params['id_col'], how='left'))\n",
    "    df_params = {'numeric_cols': ['amount'],\n",
    "             'cat_cols': ['mcc_code', 'tr_type'],\n",
    "             'cat_unique': [184, 77, 457],\n",
    "             'date_col': 'tr_datetime',\n",
    "             'id_col': 'client_id'\n",
    "    }\n",
    "    if 'nemb' in exp and not exp['nemb']:\n",
    "        df_params['cat_cols'] =  df_params['numeric_cols'] + df_params['cat_cols']\n",
    "        df_params[\"cat_unique\"] = (exp['disc'].k_bins if (type(exp['disc'].k_bins) is list) else [exp['disc'].k_bins] * len(df_params['numeric_cols'])) + df_params[\"cat_unique\"]\n",
    "        df_params['numeric_cols'] = []\n",
    "    with open(f\"../coles_prep_datasets/{exp['name']}_dataset_gender.pkl\", \"rb\") as fl:\n",
    "        dataset = pickle.load(fl)\n",
    "\n",
    "    train, test = train_test_split(dataset, test_size=0.2, random_state=42)\n",
    "\n",
    "    if 'glove_config' in exp:\n",
    "        if not exp['nsep']:\n",
    "            embedded_feats = df_params['numeric_cols'] + df_params['cat_cols'] + [df_params[\"date_col\"]]\n",
    "        else:\n",
    "            embedded_feats = df_params['cat_cols'] + [df_params[\"date_col\"]]\n",
    "        folder_nm = f'../glove_embeddings/{exp[\"name\"]}'[:-4] if exp['agg_type'] != 'mean' else f'../glove_embeddings/{exp[\"name\"]}'[:-5]\n",
    "        glove_embedding = GloveEmbedding(\n",
    "            feature_names=embedded_feats,\n",
    "            calculate_cooccur=False,\n",
    "            embedding_folder=folder_nm,\n",
    "            glove_params=exp['glove_config']\n",
    "        )\n",
    "        glove_embedding.load()\n",
    "    \n",
    "    #seq_encoder = get_cat_encoder(df_params, agg_type=exp['agg_type'], num_emb_flag=exp['nemb'])\n",
    "    #seq_encoder = get_trans_encoder(df_params, agg_type=exp['agg_type'], algo=exp['algo'], numeric_separate=exp['nsep'])\n",
    "    #seq_encoder = get_glove_encoder(df_params, exp, glove_embedding)\n",
    "\n",
    "    # if exp['name'] != 'basic_model_emb_16':\n",
    "    #     seq_encoder = get_trans_encoder(df_params, agg_type=exp['agg_type'], algo=exp['algo'], numeric_separate=exp['nsep'])\n",
    "    #     mx = torch.load(f\"../models_coles/{exp['name']}_emb.pt\")\n",
    "    #     for fn in df_params['cat_cols'] + [df_params[\"date_col\"]] + df_params['numeric_cols'] :\n",
    "    #         if f'trx_encoder.embeddings.emb_dict.{fn}.weight' in mx:\n",
    "    #             mx.pop(f'trx_encoder.embeddings.emb_dict.{fn}.weight')\n",
    "    #     seq_encoder.load_state_dict(mx)\n",
    "    # else:\n",
    "    seq_encoder = get_basic_model_encoder(df_params)\n",
    "    seq_encoder.load_state_dict(torch.load(f\"../models_coles/{exp['name']}_gender.pt\"))\n",
    "\n",
    "    metric = BatchRecallTopK(4)\n",
    "\n",
    "    train_embeds = None\n",
    "    test_embeds = None\n",
    "    #('train', train)\n",
    "    for ds_name, ds in [('test', test)]:\n",
    "        dl = PtlsDataModule(\n",
    "            test_data = ColesDataset(\n",
    "                    MemoryMapDataset(\n",
    "                        data=ds,\n",
    "                        i_filters=[\n",
    "                            SeqLenFilter(min_seq_len=25),\n",
    "                        ],\n",
    "                    ),\n",
    "                    splitter=SampleSlices(\n",
    "                        split_count=5,\n",
    "                        cnt_min=25,\n",
    "                        cnt_max=200,\n",
    "                    ),\n",
    "                ),\n",
    "            train_num_workers=1,\n",
    "            train_batch_size=256,\n",
    "        )\n",
    "\n",
    "        module = TestModule(\n",
    "            model = seq_encoder,\n",
    "            metrics = {\"recall_top_k\" : metric}\n",
    "        )\n",
    "    \n",
    "        predictor = pl.Trainer(\n",
    "                accelerator=\"gpu\",\n",
    "                enable_model_summary=False,\n",
    "                logger=False\n",
    "        )\n",
    "\n",
    "        predictor.predict(module, dl)\n",
    "\n",
    "        ds_metrics = module.get_metrics()\n",
    "\n",
    "        for m in ds_metrics:\n",
    "            res_metrics.append([exp['name'], ds_name, m, ds_metrics[m]])\n",
    "\n",
    "    coles_model = CoLESModule(\n",
    "            seq_encoder=seq_encoder,\n",
    "    )\n",
    "\n",
    "    inference_runner = pl.Trainer(\n",
    "        accelerator=\"gpu\",\n",
    "        enable_progress_bar=True,\n",
    "        enable_model_summary=False,\n",
    "        logger=False\n",
    "    )\n",
    "\n",
    "    with torch.no_grad():\n",
    "        cuda_memory_clear()\n",
    "        train_dl = inference_data_loader(train, num_workers=0, batch_size=256)\n",
    "        train_embeds = torch.vstack(inference_runner.predict(coles_model, train_dl))\n",
    "        cuda_memory_clear()\n",
    "        test_dl = inference_data_loader(test, num_workers=0, batch_size=256)\n",
    "        test_embeds = torch.vstack(inference_runner.predict(coles_model, test_dl))\n",
    "\n",
    "    train_df, test_df = get_train_test_age_bins_scenario(df_params, train_embeds, test_embeds)\n",
    "\n",
    "    for task_name, clf in tasks.items():\n",
    "        sc_test = 0\n",
    "        sc_train = 0\n",
    "        num = 0\n",
    "        for i in tqdm(range(N_TRIALS)):\n",
    "            embed_columns = [x for x in train_df.columns if x.startswith('embed')]\n",
    "            x_train, y_train = train_df[embed_columns], train_df['target']\n",
    "            x_test, y_test = test_df[embed_columns], test_df['target']\n",
    "            \n",
    "            clf.fit(x_train, y_train)\n",
    "            sc_test += clf.score(x_test, y_test)\n",
    "            #sc_train += clf.score(x_train, y_train)\n",
    "            num += 1\n",
    "\n",
    "        #res_metrics.append([exp['name'], 'train', f\"acc_{task_name}\", sc_train/num])\n",
    "        res_metrics.append([exp['name'], 'test', f\"acc_{task_name}\", sc_test/num])\n",
    "\n",
    "    report = pd.DataFrame(res_metrics, columns = ['exp_name', 'dataset', 'metric', 'value'])\n",
    "    report.to_csv('../coles_report/experiments/report_gender_baseline.csv')"
   ]
  }
 ],
 "metadata": {
  "kernelspec": {
   "display_name": "Python 3 (ipykernel)",
   "language": "python",
   "name": "python3"
  },
  "language_info": {
   "codemirror_mode": {
    "name": "ipython",
    "version": 3
   },
   "file_extension": ".py",
   "mimetype": "text/x-python",
   "name": "python",
   "nbconvert_exporter": "python",
   "pygments_lexer": "ipython3",
   "version": "3.10.15"
  },
  "vscode": {
   "interpreter": {
    "hash": "e153ad723e521bdc1aff37b3bab9b1f3df31355f5a727a9b9eb7d0282ae9ca8c"
   }
  },
  "widgets": {
   "application/vnd.jupyter.widget-state+json": {
    "state": {
     "01ee6696e36a496fb14601e1c68db4d7": {
      "model_module": "@jupyter-widgets/base",
      "model_module_version": "1.2.0",
      "model_name": "LayoutModel",
      "state": {
       "_model_module": "@jupyter-widgets/base",
       "_model_module_version": "1.2.0",
       "_model_name": "LayoutModel",
       "_view_count": null,
       "_view_module": "@jupyter-widgets/base",
       "_view_module_version": "1.2.0",
       "_view_name": "LayoutView",
       "align_content": null,
       "align_items": null,
       "align_self": null,
       "border": null,
       "bottom": null,
       "display": "inline-flex",
       "flex": null,
       "flex_flow": "row wrap",
       "grid_area": null,
       "grid_auto_columns": null,
       "grid_auto_flow": null,
       "grid_auto_rows": null,
       "grid_column": null,
       "grid_gap": null,
       "grid_row": null,
       "grid_template_areas": null,
       "grid_template_columns": null,
       "grid_template_rows": null,
       "height": null,
       "justify_content": null,
       "justify_items": null,
       "left": null,
       "margin": null,
       "max_height": null,
       "max_width": null,
       "min_height": null,
       "min_width": null,
       "object_fit": null,
       "object_position": null,
       "order": null,
       "overflow": null,
       "overflow_x": null,
       "overflow_y": null,
       "padding": null,
       "right": null,
       "top": null,
       "visibility": null,
       "width": "100%"
      }
     },
     "0ca97f55cd3d4437a1b1b074c908c230": {
      "model_module": "@jupyter-widgets/base",
      "model_module_version": "1.2.0",
      "model_name": "LayoutModel",
      "state": {
       "_model_module": "@jupyter-widgets/base",
       "_model_module_version": "1.2.0",
       "_model_name": "LayoutModel",
       "_view_count": null,
       "_view_module": "@jupyter-widgets/base",
       "_view_module_version": "1.2.0",
       "_view_name": "LayoutView",
       "align_content": null,
       "align_items": null,
       "align_self": null,
       "border": null,
       "bottom": null,
       "display": null,
       "flex": null,
       "flex_flow": null,
       "grid_area": null,
       "grid_auto_columns": null,
       "grid_auto_flow": null,
       "grid_auto_rows": null,
       "grid_column": null,
       "grid_gap": null,
       "grid_row": null,
       "grid_template_areas": null,
       "grid_template_columns": null,
       "grid_template_rows": null,
       "height": null,
       "justify_content": null,
       "justify_items": null,
       "left": null,
       "margin": null,
       "max_height": null,
       "max_width": null,
       "min_height": null,
       "min_width": null,
       "object_fit": null,
       "object_position": null,
       "order": null,
       "overflow": null,
       "overflow_x": null,
       "overflow_y": null,
       "padding": null,
       "right": null,
       "top": null,
       "visibility": null,
       "width": null
      }
     },
     "26137948bd8f45429b7893dc09a75069": {
      "model_module": "@jupyter-widgets/controls",
      "model_module_version": "1.5.0",
      "model_name": "DescriptionStyleModel",
      "state": {
       "_model_module": "@jupyter-widgets/controls",
       "_model_module_version": "1.5.0",
       "_model_name": "DescriptionStyleModel",
       "_view_count": null,
       "_view_module": "@jupyter-widgets/base",
       "_view_module_version": "1.2.0",
       "_view_name": "StyleView",
       "description_width": ""
      }
     },
     "26952339137e436eb5ce6961037effbe": {
      "model_module": "@jupyter-widgets/controls",
      "model_module_version": "1.5.0",
      "model_name": "DescriptionStyleModel",
      "state": {
       "_model_module": "@jupyter-widgets/controls",
       "_model_module_version": "1.5.0",
       "_model_name": "DescriptionStyleModel",
       "_view_count": null,
       "_view_module": "@jupyter-widgets/base",
       "_view_module_version": "1.2.0",
       "_view_name": "StyleView",
       "description_width": ""
      }
     },
     "364d6da46fa8437c996fd4f255f72698": {
      "model_module": "@jupyter-widgets/controls",
      "model_module_version": "1.5.0",
      "model_name": "ProgressStyleModel",
      "state": {
       "_model_module": "@jupyter-widgets/controls",
       "_model_module_version": "1.5.0",
       "_model_name": "ProgressStyleModel",
       "_view_count": null,
       "_view_module": "@jupyter-widgets/base",
       "_view_module_version": "1.2.0",
       "_view_name": "StyleView",
       "bar_color": null,
       "description_width": ""
      }
     },
     "37640538cd7c42989bfe6f34813a9319": {
      "model_module": "@jupyter-widgets/base",
      "model_module_version": "1.2.0",
      "model_name": "LayoutModel",
      "state": {
       "_model_module": "@jupyter-widgets/base",
       "_model_module_version": "1.2.0",
       "_model_name": "LayoutModel",
       "_view_count": null,
       "_view_module": "@jupyter-widgets/base",
       "_view_module_version": "1.2.0",
       "_view_name": "LayoutView",
       "align_content": null,
       "align_items": null,
       "align_self": null,
       "border": null,
       "bottom": null,
       "display": null,
       "flex": null,
       "flex_flow": null,
       "grid_area": null,
       "grid_auto_columns": null,
       "grid_auto_flow": null,
       "grid_auto_rows": null,
       "grid_column": null,
       "grid_gap": null,
       "grid_row": null,
       "grid_template_areas": null,
       "grid_template_columns": null,
       "grid_template_rows": null,
       "height": null,
       "justify_content": null,
       "justify_items": null,
       "left": null,
       "margin": null,
       "max_height": null,
       "max_width": null,
       "min_height": null,
       "min_width": null,
       "object_fit": null,
       "object_position": null,
       "order": null,
       "overflow": null,
       "overflow_x": null,
       "overflow_y": null,
       "padding": null,
       "right": null,
       "top": null,
       "visibility": null,
       "width": null
      }
     },
     "489653f34e424b4a8d1693feac4301bd": {
      "model_module": "@jupyter-widgets/controls",
      "model_module_version": "1.5.0",
      "model_name": "HTMLModel",
      "state": {
       "_dom_classes": [],
       "_model_module": "@jupyter-widgets/controls",
       "_model_module_version": "1.5.0",
       "_model_name": "HTMLModel",
       "_view_count": null,
       "_view_module": "@jupyter-widgets/controls",
       "_view_module_version": "1.5.0",
       "_view_name": "HTMLView",
       "description": "",
       "description_tooltip": null,
       "layout": "IPY_MODEL_e33f33225f004815ae295a2b9f453883",
       "placeholder": "​",
       "style": "IPY_MODEL_26952339137e436eb5ce6961037effbe",
       "value": "Epoch 14: 100%"
      }
     },
     "60c687724a2a4c9a80a1a58c7a218bbc": {
      "model_module": "@jupyter-widgets/base",
      "model_module_version": "1.2.0",
      "model_name": "LayoutModel",
      "state": {
       "_model_module": "@jupyter-widgets/base",
       "_model_module_version": "1.2.0",
       "_model_name": "LayoutModel",
       "_view_count": null,
       "_view_module": "@jupyter-widgets/base",
       "_view_module_version": "1.2.0",
       "_view_name": "LayoutView",
       "align_content": null,
       "align_items": null,
       "align_self": null,
       "border": null,
       "bottom": null,
       "display": "inline-flex",
       "flex": null,
       "flex_flow": "row wrap",
       "grid_area": null,
       "grid_auto_columns": null,
       "grid_auto_flow": null,
       "grid_auto_rows": null,
       "grid_column": null,
       "grid_gap": null,
       "grid_row": null,
       "grid_template_areas": null,
       "grid_template_columns": null,
       "grid_template_rows": null,
       "height": null,
       "justify_content": null,
       "justify_items": null,
       "left": null,
       "margin": null,
       "max_height": null,
       "max_width": null,
       "min_height": null,
       "min_width": null,
       "object_fit": null,
       "object_position": null,
       "order": null,
       "overflow": null,
       "overflow_x": null,
       "overflow_y": null,
       "padding": null,
       "right": null,
       "top": null,
       "visibility": null,
       "width": "100%"
      }
     },
     "621f6072336e40618ab6adae38e1e762": {
      "model_module": "@jupyter-widgets/controls",
      "model_module_version": "1.5.0",
      "model_name": "DescriptionStyleModel",
      "state": {
       "_model_module": "@jupyter-widgets/controls",
       "_model_module_version": "1.5.0",
       "_model_name": "DescriptionStyleModel",
       "_view_count": null,
       "_view_module": "@jupyter-widgets/base",
       "_view_module_version": "1.2.0",
       "_view_name": "StyleView",
       "description_width": ""
      }
     },
     "70b148cd72e145038118fea79ff32c54": {
      "model_module": "@jupyter-widgets/controls",
      "model_module_version": "1.5.0",
      "model_name": "HTMLModel",
      "state": {
       "_dom_classes": [],
       "_model_module": "@jupyter-widgets/controls",
       "_model_module_version": "1.5.0",
       "_model_name": "HTMLModel",
       "_view_count": null,
       "_view_module": "@jupyter-widgets/controls",
       "_view_module_version": "1.5.0",
       "_view_name": "HTMLView",
       "description": "",
       "description_tooltip": null,
       "layout": "IPY_MODEL_8afe3d3475684582a8d0e8b673fcad49",
       "placeholder": "​",
       "style": "IPY_MODEL_748d27490e9148219c8f188194a8b604",
       "value": "Predicting: "
      }
     },
     "71469a60dd8e4b74a97eb7c27e3aaa4e": {
      "model_module": "@jupyter-widgets/controls",
      "model_module_version": "1.5.0",
      "model_name": "HBoxModel",
      "state": {
       "_dom_classes": [],
       "_model_module": "@jupyter-widgets/controls",
       "_model_module_version": "1.5.0",
       "_model_name": "HBoxModel",
       "_view_count": null,
       "_view_module": "@jupyter-widgets/controls",
       "_view_module_version": "1.5.0",
       "_view_name": "HBoxView",
       "box_style": "",
       "children": [
        "IPY_MODEL_a080e7d5d5d5454aaa5aec47ab11b2f7",
        "IPY_MODEL_e79e92771c444f9fabb37c2dc304aafc",
        "IPY_MODEL_93d164c36d7146058ae0b9d8d475b06d"
       ],
       "layout": "IPY_MODEL_8831196896a64181b02a5ad0d22e0dd8"
      }
     },
     "748d27490e9148219c8f188194a8b604": {
      "model_module": "@jupyter-widgets/controls",
      "model_module_version": "1.5.0",
      "model_name": "DescriptionStyleModel",
      "state": {
       "_model_module": "@jupyter-widgets/controls",
       "_model_module_version": "1.5.0",
       "_model_name": "DescriptionStyleModel",
       "_view_count": null,
       "_view_module": "@jupyter-widgets/base",
       "_view_module_version": "1.2.0",
       "_view_name": "StyleView",
       "description_width": ""
      }
     },
     "7c9829f7a9b847fdb5aeadf917a8fd7f": {
      "model_module": "@jupyter-widgets/controls",
      "model_module_version": "1.5.0",
      "model_name": "DescriptionStyleModel",
      "state": {
       "_model_module": "@jupyter-widgets/controls",
       "_model_module_version": "1.5.0",
       "_model_name": "DescriptionStyleModel",
       "_view_count": null,
       "_view_module": "@jupyter-widgets/base",
       "_view_module_version": "1.2.0",
       "_view_name": "StyleView",
       "description_width": ""
      }
     },
     "84559c5ef59c4ec68695403555d74c81": {
      "model_module": "@jupyter-widgets/controls",
      "model_module_version": "1.5.0",
      "model_name": "HBoxModel",
      "state": {
       "_dom_classes": [],
       "_model_module": "@jupyter-widgets/controls",
       "_model_module_version": "1.5.0",
       "_model_name": "HBoxModel",
       "_view_count": null,
       "_view_module": "@jupyter-widgets/controls",
       "_view_module_version": "1.5.0",
       "_view_name": "HBoxView",
       "box_style": "",
       "children": [
        "IPY_MODEL_70b148cd72e145038118fea79ff32c54",
        "IPY_MODEL_8ccfd768f9ec462186047f88089f9a01",
        "IPY_MODEL_f4559629cb4e4f22b2cb2b1a4198c374"
       ],
       "layout": "IPY_MODEL_01ee6696e36a496fb14601e1c68db4d7"
      }
     },
     "8831196896a64181b02a5ad0d22e0dd8": {
      "model_module": "@jupyter-widgets/base",
      "model_module_version": "1.2.0",
      "model_name": "LayoutModel",
      "state": {
       "_model_module": "@jupyter-widgets/base",
       "_model_module_version": "1.2.0",
       "_model_name": "LayoutModel",
       "_view_count": null,
       "_view_module": "@jupyter-widgets/base",
       "_view_module_version": "1.2.0",
       "_view_name": "LayoutView",
       "align_content": null,
       "align_items": null,
       "align_self": null,
       "border": null,
       "bottom": null,
       "display": "inline-flex",
       "flex": null,
       "flex_flow": "row wrap",
       "grid_area": null,
       "grid_auto_columns": null,
       "grid_auto_flow": null,
       "grid_auto_rows": null,
       "grid_column": null,
       "grid_gap": null,
       "grid_row": null,
       "grid_template_areas": null,
       "grid_template_columns": null,
       "grid_template_rows": null,
       "height": null,
       "justify_content": null,
       "justify_items": null,
       "left": null,
       "margin": null,
       "max_height": null,
       "max_width": null,
       "min_height": null,
       "min_width": null,
       "object_fit": null,
       "object_position": null,
       "order": null,
       "overflow": null,
       "overflow_x": null,
       "overflow_y": null,
       "padding": null,
       "right": null,
       "top": null,
       "visibility": null,
       "width": "100%"
      }
     },
     "8afe3d3475684582a8d0e8b673fcad49": {
      "model_module": "@jupyter-widgets/base",
      "model_module_version": "1.2.0",
      "model_name": "LayoutModel",
      "state": {
       "_model_module": "@jupyter-widgets/base",
       "_model_module_version": "1.2.0",
       "_model_name": "LayoutModel",
       "_view_count": null,
       "_view_module": "@jupyter-widgets/base",
       "_view_module_version": "1.2.0",
       "_view_name": "LayoutView",
       "align_content": null,
       "align_items": null,
       "align_self": null,
       "border": null,
       "bottom": null,
       "display": null,
       "flex": null,
       "flex_flow": null,
       "grid_area": null,
       "grid_auto_columns": null,
       "grid_auto_flow": null,
       "grid_auto_rows": null,
       "grid_column": null,
       "grid_gap": null,
       "grid_row": null,
       "grid_template_areas": null,
       "grid_template_columns": null,
       "grid_template_rows": null,
       "height": null,
       "justify_content": null,
       "justify_items": null,
       "left": null,
       "margin": null,
       "max_height": null,
       "max_width": null,
       "min_height": null,
       "min_width": null,
       "object_fit": null,
       "object_position": null,
       "order": null,
       "overflow": null,
       "overflow_x": null,
       "overflow_y": null,
       "padding": null,
       "right": null,
       "top": null,
       "visibility": null,
       "width": null
      }
     },
     "8ccfd768f9ec462186047f88089f9a01": {
      "model_module": "@jupyter-widgets/controls",
      "model_module_version": "1.5.0",
      "model_name": "FloatProgressModel",
      "state": {
       "_dom_classes": [],
       "_model_module": "@jupyter-widgets/controls",
       "_model_module_version": "1.5.0",
       "_model_name": "FloatProgressModel",
       "_view_count": null,
       "_view_module": "@jupyter-widgets/controls",
       "_view_module_version": "1.5.0",
       "_view_name": "ProgressView",
       "bar_style": "success",
       "description": "",
       "description_tooltip": null,
       "layout": "IPY_MODEL_9bab642e75ac41e29b049d13299c709c",
       "max": 1,
       "min": 0,
       "orientation": "horizontal",
       "style": "IPY_MODEL_caa6bc12efc24d27b2a589f722bb8dcd",
       "value": 1
      }
     },
     "93d164c36d7146058ae0b9d8d475b06d": {
      "model_module": "@jupyter-widgets/controls",
      "model_module_version": "1.5.0",
      "model_name": "HTMLModel",
      "state": {
       "_dom_classes": [],
       "_model_module": "@jupyter-widgets/controls",
       "_model_module_version": "1.5.0",
       "_model_name": "HTMLModel",
       "_view_count": null,
       "_view_module": "@jupyter-widgets/controls",
       "_view_module_version": "1.5.0",
       "_view_name": "HTMLView",
       "description": "",
       "description_tooltip": null,
       "layout": "IPY_MODEL_fba40d205bf7433baad90f9e567710e8",
       "placeholder": "​",
       "style": "IPY_MODEL_621f6072336e40618ab6adae38e1e762",
       "value": " 118/? [00:03&lt;00:00,  6.30it/s]"
      }
     },
     "9bab642e75ac41e29b049d13299c709c": {
      "model_module": "@jupyter-widgets/base",
      "model_module_version": "1.2.0",
      "model_name": "LayoutModel",
      "state": {
       "_model_module": "@jupyter-widgets/base",
       "_model_module_version": "1.2.0",
       "_model_name": "LayoutModel",
       "_view_count": null,
       "_view_module": "@jupyter-widgets/base",
       "_view_module_version": "1.2.0",
       "_view_name": "LayoutView",
       "align_content": null,
       "align_items": null,
       "align_self": null,
       "border": null,
       "bottom": null,
       "display": null,
       "flex": "2",
       "flex_flow": null,
       "grid_area": null,
       "grid_auto_columns": null,
       "grid_auto_flow": null,
       "grid_auto_rows": null,
       "grid_column": null,
       "grid_gap": null,
       "grid_row": null,
       "grid_template_areas": null,
       "grid_template_columns": null,
       "grid_template_rows": null,
       "height": null,
       "justify_content": null,
       "justify_items": null,
       "left": null,
       "margin": null,
       "max_height": null,
       "max_width": null,
       "min_height": null,
       "min_width": null,
       "object_fit": null,
       "object_position": null,
       "order": null,
       "overflow": null,
       "overflow_x": null,
       "overflow_y": null,
       "padding": null,
       "right": null,
       "top": null,
       "visibility": null,
       "width": null
      }
     },
     "a080e7d5d5d5454aaa5aec47ab11b2f7": {
      "model_module": "@jupyter-widgets/controls",
      "model_module_version": "1.5.0",
      "model_name": "HTMLModel",
      "state": {
       "_dom_classes": [],
       "_model_module": "@jupyter-widgets/controls",
       "_model_module_version": "1.5.0",
       "_model_name": "HTMLModel",
       "_view_count": null,
       "_view_module": "@jupyter-widgets/controls",
       "_view_module_version": "1.5.0",
       "_view_name": "HTMLView",
       "description": "",
       "description_tooltip": null,
       "layout": "IPY_MODEL_0ca97f55cd3d4437a1b1b074c908c230",
       "placeholder": "​",
       "style": "IPY_MODEL_7c9829f7a9b847fdb5aeadf917a8fd7f",
       "value": "Predicting: "
      }
     },
     "aacec0ffb61e47c188f42f5d4ee93d07": {
      "model_module": "@jupyter-widgets/controls",
      "model_module_version": "1.5.0",
      "model_name": "HBoxModel",
      "state": {
       "_dom_classes": [],
       "_model_module": "@jupyter-widgets/controls",
       "_model_module_version": "1.5.0",
       "_model_name": "HBoxModel",
       "_view_count": null,
       "_view_module": "@jupyter-widgets/controls",
       "_view_module_version": "1.5.0",
       "_view_name": "HBoxView",
       "box_style": "",
       "children": [
        "IPY_MODEL_489653f34e424b4a8d1693feac4301bd",
        "IPY_MODEL_cc2169b121624ce490b28642b260ee68",
        "IPY_MODEL_de9674f610a04a50a662d37cd7a0fe98"
       ],
       "layout": "IPY_MODEL_60c687724a2a4c9a80a1a58c7a218bbc"
      }
     },
     "b26ad2fd0b2245d899312ce0ebd50f40": {
      "model_module": "@jupyter-widgets/controls",
      "model_module_version": "1.5.0",
      "model_name": "ProgressStyleModel",
      "state": {
       "_model_module": "@jupyter-widgets/controls",
       "_model_module_version": "1.5.0",
       "_model_name": "ProgressStyleModel",
       "_view_count": null,
       "_view_module": "@jupyter-widgets/base",
       "_view_module_version": "1.2.0",
       "_view_name": "StyleView",
       "bar_color": null,
       "description_width": ""
      }
     },
     "c1353e5ca7c64b2183ce2533b240acd4": {
      "model_module": "@jupyter-widgets/controls",
      "model_module_version": "1.5.0",
      "model_name": "DescriptionStyleModel",
      "state": {
       "_model_module": "@jupyter-widgets/controls",
       "_model_module_version": "1.5.0",
       "_model_name": "DescriptionStyleModel",
       "_view_count": null,
       "_view_module": "@jupyter-widgets/base",
       "_view_module_version": "1.2.0",
       "_view_name": "StyleView",
       "description_width": ""
      }
     },
     "c9ded1ea494a476cbc5286e310d9a989": {
      "model_module": "@jupyter-widgets/base",
      "model_module_version": "1.2.0",
      "model_name": "LayoutModel",
      "state": {
       "_model_module": "@jupyter-widgets/base",
       "_model_module_version": "1.2.0",
       "_model_name": "LayoutModel",
       "_view_count": null,
       "_view_module": "@jupyter-widgets/base",
       "_view_module_version": "1.2.0",
       "_view_name": "LayoutView",
       "align_content": null,
       "align_items": null,
       "align_self": null,
       "border": null,
       "bottom": null,
       "display": null,
       "flex": "2",
       "flex_flow": null,
       "grid_area": null,
       "grid_auto_columns": null,
       "grid_auto_flow": null,
       "grid_auto_rows": null,
       "grid_column": null,
       "grid_gap": null,
       "grid_row": null,
       "grid_template_areas": null,
       "grid_template_columns": null,
       "grid_template_rows": null,
       "height": null,
       "justify_content": null,
       "justify_items": null,
       "left": null,
       "margin": null,
       "max_height": null,
       "max_width": null,
       "min_height": null,
       "min_width": null,
       "object_fit": null,
       "object_position": null,
       "order": null,
       "overflow": null,
       "overflow_x": null,
       "overflow_y": null,
       "padding": null,
       "right": null,
       "top": null,
       "visibility": null,
       "width": null
      }
     },
     "caa6bc12efc24d27b2a589f722bb8dcd": {
      "model_module": "@jupyter-widgets/controls",
      "model_module_version": "1.5.0",
      "model_name": "ProgressStyleModel",
      "state": {
       "_model_module": "@jupyter-widgets/controls",
       "_model_module_version": "1.5.0",
       "_model_name": "ProgressStyleModel",
       "_view_count": null,
       "_view_module": "@jupyter-widgets/base",
       "_view_module_version": "1.2.0",
       "_view_name": "StyleView",
       "bar_color": null,
       "description_width": ""
      }
     },
     "cc2169b121624ce490b28642b260ee68": {
      "model_module": "@jupyter-widgets/controls",
      "model_module_version": "1.5.0",
      "model_name": "FloatProgressModel",
      "state": {
       "_dom_classes": [],
       "_model_module": "@jupyter-widgets/controls",
       "_model_module_version": "1.5.0",
       "_model_name": "FloatProgressModel",
       "_view_count": null,
       "_view_module": "@jupyter-widgets/controls",
       "_view_module_version": "1.5.0",
       "_view_name": "ProgressView",
       "bar_style": "success",
       "description": "",
       "description_tooltip": null,
       "layout": "IPY_MODEL_cc7588a078fe43a2a0838cbee8349163",
       "max": 94,
       "min": 0,
       "orientation": "horizontal",
       "style": "IPY_MODEL_b26ad2fd0b2245d899312ce0ebd50f40",
       "value": 94
      }
     },
     "cc7588a078fe43a2a0838cbee8349163": {
      "model_module": "@jupyter-widgets/base",
      "model_module_version": "1.2.0",
      "model_name": "LayoutModel",
      "state": {
       "_model_module": "@jupyter-widgets/base",
       "_model_module_version": "1.2.0",
       "_model_name": "LayoutModel",
       "_view_count": null,
       "_view_module": "@jupyter-widgets/base",
       "_view_module_version": "1.2.0",
       "_view_name": "LayoutView",
       "align_content": null,
       "align_items": null,
       "align_self": null,
       "border": null,
       "bottom": null,
       "display": null,
       "flex": "2",
       "flex_flow": null,
       "grid_area": null,
       "grid_auto_columns": null,
       "grid_auto_flow": null,
       "grid_auto_rows": null,
       "grid_column": null,
       "grid_gap": null,
       "grid_row": null,
       "grid_template_areas": null,
       "grid_template_columns": null,
       "grid_template_rows": null,
       "height": null,
       "justify_content": null,
       "justify_items": null,
       "left": null,
       "margin": null,
       "max_height": null,
       "max_width": null,
       "min_height": null,
       "min_width": null,
       "object_fit": null,
       "object_position": null,
       "order": null,
       "overflow": null,
       "overflow_x": null,
       "overflow_y": null,
       "padding": null,
       "right": null,
       "top": null,
       "visibility": null,
       "width": null
      }
     },
     "de9674f610a04a50a662d37cd7a0fe98": {
      "model_module": "@jupyter-widgets/controls",
      "model_module_version": "1.5.0",
      "model_name": "HTMLModel",
      "state": {
       "_dom_classes": [],
       "_model_module": "@jupyter-widgets/controls",
       "_model_module_version": "1.5.0",
       "_model_name": "HTMLModel",
       "_view_count": null,
       "_view_module": "@jupyter-widgets/controls",
       "_view_module_version": "1.5.0",
       "_view_name": "HTMLView",
       "description": "",
       "description_tooltip": null,
       "layout": "IPY_MODEL_37640538cd7c42989bfe6f34813a9319",
       "placeholder": "​",
       "style": "IPY_MODEL_c1353e5ca7c64b2183ce2533b240acd4",
       "value": " 94/94 [00:44&lt;00:00,  2.10it/s, loss=373, v_num=9, seq_len=113.0]"
      }
     },
     "e33f33225f004815ae295a2b9f453883": {
      "model_module": "@jupyter-widgets/base",
      "model_module_version": "1.2.0",
      "model_name": "LayoutModel",
      "state": {
       "_model_module": "@jupyter-widgets/base",
       "_model_module_version": "1.2.0",
       "_model_name": "LayoutModel",
       "_view_count": null,
       "_view_module": "@jupyter-widgets/base",
       "_view_module_version": "1.2.0",
       "_view_name": "LayoutView",
       "align_content": null,
       "align_items": null,
       "align_self": null,
       "border": null,
       "bottom": null,
       "display": null,
       "flex": null,
       "flex_flow": null,
       "grid_area": null,
       "grid_auto_columns": null,
       "grid_auto_flow": null,
       "grid_auto_rows": null,
       "grid_column": null,
       "grid_gap": null,
       "grid_row": null,
       "grid_template_areas": null,
       "grid_template_columns": null,
       "grid_template_rows": null,
       "height": null,
       "justify_content": null,
       "justify_items": null,
       "left": null,
       "margin": null,
       "max_height": null,
       "max_width": null,
       "min_height": null,
       "min_width": null,
       "object_fit": null,
       "object_position": null,
       "order": null,
       "overflow": null,
       "overflow_x": null,
       "overflow_y": null,
       "padding": null,
       "right": null,
       "top": null,
       "visibility": null,
       "width": null
      }
     },
     "e79e92771c444f9fabb37c2dc304aafc": {
      "model_module": "@jupyter-widgets/controls",
      "model_module_version": "1.5.0",
      "model_name": "FloatProgressModel",
      "state": {
       "_dom_classes": [],
       "_model_module": "@jupyter-widgets/controls",
       "_model_module_version": "1.5.0",
       "_model_name": "FloatProgressModel",
       "_view_count": null,
       "_view_module": "@jupyter-widgets/controls",
       "_view_module_version": "1.5.0",
       "_view_name": "ProgressView",
       "bar_style": "success",
       "description": "",
       "description_tooltip": null,
       "layout": "IPY_MODEL_c9ded1ea494a476cbc5286e310d9a989",
       "max": 1,
       "min": 0,
       "orientation": "horizontal",
       "style": "IPY_MODEL_364d6da46fa8437c996fd4f255f72698",
       "value": 1
      }
     },
     "ecea7cc60e854a51bb8d5b1498235515": {
      "model_module": "@jupyter-widgets/base",
      "model_module_version": "1.2.0",
      "model_name": "LayoutModel",
      "state": {
       "_model_module": "@jupyter-widgets/base",
       "_model_module_version": "1.2.0",
       "_model_name": "LayoutModel",
       "_view_count": null,
       "_view_module": "@jupyter-widgets/base",
       "_view_module_version": "1.2.0",
       "_view_name": "LayoutView",
       "align_content": null,
       "align_items": null,
       "align_self": null,
       "border": null,
       "bottom": null,
       "display": null,
       "flex": null,
       "flex_flow": null,
       "grid_area": null,
       "grid_auto_columns": null,
       "grid_auto_flow": null,
       "grid_auto_rows": null,
       "grid_column": null,
       "grid_gap": null,
       "grid_row": null,
       "grid_template_areas": null,
       "grid_template_columns": null,
       "grid_template_rows": null,
       "height": null,
       "justify_content": null,
       "justify_items": null,
       "left": null,
       "margin": null,
       "max_height": null,
       "max_width": null,
       "min_height": null,
       "min_width": null,
       "object_fit": null,
       "object_position": null,
       "order": null,
       "overflow": null,
       "overflow_x": null,
       "overflow_y": null,
       "padding": null,
       "right": null,
       "top": null,
       "visibility": null,
       "width": null
      }
     },
     "f4559629cb4e4f22b2cb2b1a4198c374": {
      "model_module": "@jupyter-widgets/controls",
      "model_module_version": "1.5.0",
      "model_name": "HTMLModel",
      "state": {
       "_dom_classes": [],
       "_model_module": "@jupyter-widgets/controls",
       "_model_module_version": "1.5.0",
       "_model_name": "HTMLModel",
       "_view_count": null,
       "_view_module": "@jupyter-widgets/controls",
       "_view_module_version": "1.5.0",
       "_view_name": "HTMLView",
       "description": "",
       "description_tooltip": null,
       "layout": "IPY_MODEL_ecea7cc60e854a51bb8d5b1498235515",
       "placeholder": "​",
       "style": "IPY_MODEL_26137948bd8f45429b7893dc09a75069",
       "value": " 188/? [00:15&lt;00:00,  6.24it/s]"
      }
     },
     "fba40d205bf7433baad90f9e567710e8": {
      "model_module": "@jupyter-widgets/base",
      "model_module_version": "1.2.0",
      "model_name": "LayoutModel",
      "state": {
       "_model_module": "@jupyter-widgets/base",
       "_model_module_version": "1.2.0",
       "_model_name": "LayoutModel",
       "_view_count": null,
       "_view_module": "@jupyter-widgets/base",
       "_view_module_version": "1.2.0",
       "_view_name": "LayoutView",
       "align_content": null,
       "align_items": null,
       "align_self": null,
       "border": null,
       "bottom": null,
       "display": null,
       "flex": null,
       "flex_flow": null,
       "grid_area": null,
       "grid_auto_columns": null,
       "grid_auto_flow": null,
       "grid_auto_rows": null,
       "grid_column": null,
       "grid_gap": null,
       "grid_row": null,
       "grid_template_areas": null,
       "grid_template_columns": null,
       "grid_template_rows": null,
       "height": null,
       "justify_content": null,
       "justify_items": null,
       "left": null,
       "margin": null,
       "max_height": null,
       "max_width": null,
       "min_height": null,
       "min_width": null,
       "object_fit": null,
       "object_position": null,
       "order": null,
       "overflow": null,
       "overflow_x": null,
       "overflow_y": null,
       "padding": null,
       "right": null,
       "top": null,
       "visibility": null,
       "width": null
      }
     }
    },
    "version_major": 2,
    "version_minor": 0
   }
  }
 },
 "nbformat": 4,
 "nbformat_minor": 5
}
